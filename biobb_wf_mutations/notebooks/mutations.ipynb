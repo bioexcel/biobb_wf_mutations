{
 "cells": [
  {
   "cell_type": "markdown",
   "metadata": {},
   "source": [
    "# Lysozyme + Mutations tutorial using BIOBB\n",
    "Based on the official Gromacs tutorial: http://www.mdtutorials.com/gmx/lysozyme/01_pdb2gmx.html"
   ]
  },
  {
   "cell_type": "code",
   "execution_count": null,
   "metadata": {},
   "outputs": [],
   "source": [
    "import nglview\n",
    "import ipywidgets"
   ]
  },
  {
   "cell_type": "markdown",
   "metadata": {},
   "source": [
    "## Dowload the initial Structure\n",
    "Download the initial PDB file from a PDB code (1AKI) from the RCSB (https://files.rcsb.org/download/).\n",
    "The PDB will be dowloaded without solvent or HETATM."
   ]
  },
  {
   "cell_type": "code",
   "execution_count": null,
   "metadata": {},
   "outputs": [],
   "source": [
    "#Import module\n",
    "from biobb_io.api.pdb import Pdb\n",
    "# Create properties dict and inputs/outputs\n",
    "prop = {'pdb_code':'1aki'}\n",
    "downloaded_pdb_path = '1aki.pdb'\n",
    "#Create and launch bb\n",
    "Pdb(output_pdb_path=downloaded_pdb_path, properties=prop).launch()"
   ]
  },
  {
   "cell_type": "code",
   "execution_count": null,
   "metadata": {},
   "outputs": [],
   "source": [
    "#Show protein\n",
    "view = nglview.show_file(downloaded_pdb_path)\n",
    "view.add_representation(repr_type='ball+stick', selection='all')\n",
    "view._remote_call('setSize', target='Widget', args=['','600px'])\n",
    "view"
   ]
  },
  {
   "cell_type": "markdown",
   "metadata": {},
   "source": [
    "## Modeling the missing heavy atoms in the structure side chains\n",
    "This BB will reconstruct missing atoms from residue side chains and detect all kinds of clashes"
   ]
  },
  {
   "cell_type": "code",
   "execution_count": null,
   "metadata": {},
   "outputs": [],
   "source": [
    "#Check & Fix PDB\n",
    "#Import module\n",
    "from biobb_model.model.fix_side_chain import FixSideChain\n",
    "# Create prop dict and inputs/outputs\n",
    "fixed_pdb_path = '1aki_fixed.pdb'\n",
    "#Create and launch bb\n",
    "FixSideChain(input_pdb_path=downloaded_pdb_path, output_pdb_path=fixed_pdb_path).launch()"
   ]
  },
  {
   "cell_type": "code",
   "execution_count": null,
   "metadata": {},
   "outputs": [],
   "source": [
    "#Show protein\n",
    "view = nglview.show_file(fixed_pdb_path)\n",
    "view.add_representation(repr_type='ball+stick', selection='all')\n",
    "view._remote_call('setSize', target='Widget', args=['','600px'])\n",
    "view.camera='orthographic'\n",
    "view"
   ]
  },
  {
   "cell_type": "markdown",
   "metadata": {},
   "source": [
    "## Modeling mutation list\n",
    "This BB will mutate existing residues to the requested ones."
   ]
  },
  {
   "cell_type": "code",
   "execution_count": null,
   "metadata": {},
   "outputs": [],
   "source": [
    "#Mutate protein\n",
    "# Import module to test\n",
    "from biobb_model.model.mutate import Mutate\n",
    "# Create prop dict and inputs/outputs\n",
    "prop = {'mutation_list': 'Val2Tyr, Val2Ala'}\n",
    "mutated_pdb_path = '1aki_mutated.pdb'\n",
    "#Create and launch bb\n",
    "Mutate(input_pdb_path=fixed_pdb_path,output_pdb_path=mutated_pdb_path, properties=prop).launch()"
   ]
  },
  {
   "cell_type": "code",
   "execution_count": null,
   "metadata": {},
   "outputs": [],
   "source": [
    "#Show log and protein\n",
    "view1 = nglview.show_file(fixed_pdb_path)\n",
    "view1.add_representation(repr_type='ball+stick', selection='2:A')\n",
    "view1._remote_call('setSize', target='Widget', args=['500px','600px'])\n",
    "view1.camera='orthographic'\n",
    "view2 = nglview.show_file(mutated_pdb_path)\n",
    "view2.add_representation(repr_type='ball+stick', selection='2:A')\n",
    "view2._remote_call('setSize', target='Widget', args=['500px','600px'])\n",
    "view2.camera='orthographic'\n",
    "ipywidgets.HBox([view1, view2])"
   ]
  },
  {
   "cell_type": "markdown",
   "metadata": {},
   "source": [
    "## Generate the topology\n",
    "Generate the topology using [Pdb2gmx](http://manual.gromacs.org/programs/gmx-pdb2gmx.html) module.\n",
    "The default forcefield is [amber99sb-ildn](https://www.ncbi.nlm.nih.gov/pmc/articles/PMC2970904/) and the default water_type is [spce](http://www.sklogwiki.org/SklogWiki/index.php/SPC/E_model_of_water).\n",
    "This BB will generate 2 main files:\n",
    "-  A compressed ZIP file containing:\n",
    "> -  The [Gromacs topology file](http://manual.gromacs.org/online/top.html) (.top)\n",
    "> -  The [Gromacs position restraint file](http://manual.gromacs.org/online/itp.html) (.itp)\n",
    "-  A post-processed [Gromacs structure file](http://manual.gromacs.org/current/online/gro.html) (.gro)"
   ]
  },
  {
   "cell_type": "code",
   "execution_count": null,
   "metadata": {},
   "outputs": [],
   "source": [
    "#Create system topology\n",
    "# Import module\n",
    "from biobb_md.gromacs.pdb2gmx import Pdb2gmx\n",
    "# Create inputs/outputs\n",
    "output_pdb2gmx_gro_path = '1aki_pdb2gmx.gro'\n",
    "output_pdb2gmx_top_zip_path = '1aki_pdb2gmx_top.zip'\n",
    "#Create and launch bb\n",
    "Pdb2gmx(input_pdb_path=mutated_pdb_path, output_gro_path=output_pdb2gmx_gro_path, output_top_zip_path=output_pdb2gmx_top_zip_path).launch()"
   ]
  },
  {
   "cell_type": "code",
   "execution_count": null,
   "metadata": {},
   "outputs": [],
   "source": [
    "#Show protein\n",
    "view = nglview.show_file(output_pdb2gmx_gro_path)\n",
    "view.add_representation(repr_type='ball+stick', selection='all')\n",
    "view._remote_call('setSize', target='Widget', args=['','600px'])\n",
    "view.camera='orthographic'\n",
    "view"
   ]
  },
  {
   "cell_type": "markdown",
   "metadata": {},
   "source": [
    "Note that hydrogen atoms had been added to the structure.\n",
    "***"
   ]
  },
  {
   "cell_type": "markdown",
   "metadata": {},
   "source": [
    "## Create the solvent box\n",
    "Create the solvent box using the [Editconf](http://manual.gromacs.org/programs/gmx-editconf.html) module. The box will be centered, the distance between the solute and the box will be 1.0nm and the box shape will be cubic by default. The main output of this BB will be an updated post-procesed Gromacs structure file (.gro). "
   ]
  },
  {
   "cell_type": "code",
   "execution_count": null,
   "metadata": {},
   "outputs": [],
   "source": [
    "# Editconf: Create solvent box\n",
    "# Import module\n",
    "from biobb_md.gromacs.editconf import Editconf\n",
    "# Create prop dict and inputs/outputs\n",
    "output_editconf_gro_path = '1aki_editconf.gro'\n",
    "#Create and launch bb\n",
    "Editconf(input_gro_path=output_pdb2gmx_gro_path, output_gro_path=output_editconf_gro_path).launch()"
   ]
  },
  {
   "cell_type": "markdown",
   "metadata": {},
   "source": [
    "## Fill the solvent box with water molecules\n",
    "Fill the solvent box using the Gromacs Solvate module. The \"spc216.gro\" will be default solvent model. The main output of this BB will be an updated post-procesed Gromacs structure file (.gro) and a zip file containing the updated topology file (.top) and the restriction files (.itp)."
   ]
  },
  {
   "cell_type": "code",
   "execution_count": null,
   "metadata": {},
   "outputs": [],
   "source": [
    "# Solvate: Fill the box with water molecules\n",
    "from biobb_md.gromacs.solvate import Solvate\n",
    "# Create prop dict and inputs/outputs\n",
    "output_solvate_gro_path = '1aki_solvate.gro'\n",
    "output_solvate_top_zip_path = '1aki_solvate_top.zip'\n",
    "#Create and launch bb\n",
    "Solvate(input_solute_gro_path=output_editconf_gro_path, output_gro_path=output_solvate_gro_path, input_top_zip_path=output_pdb2gmx_top_zip_path, output_top_zip_path=output_solvate_top_zip_path).launch()"
   ]
  },
  {
   "cell_type": "code",
   "execution_count": null,
   "metadata": {},
   "outputs": [],
   "source": [
    "#Show protein\n",
    "view = nglview.show_file(output_solvate_gro_path)\n",
    "view.clear_representations()\n",
    "view.add_representation(repr_type='cartoon', selection='protein', color='green')\n",
    "view.add_representation(repr_type='ball+stick', selection='SOL')\n",
    "view._remote_call('setSize', target='Widget', args=['','600px'])\n",
    "view.camera='orthographic'\n",
    "view"
   ]
  },
  {
   "cell_type": "markdown",
   "metadata": {},
   "source": [
    "## Preprocess ion generation\n",
    "Create the [portable binary run file (.tpr)](http://manual.gromacs.org/online/tpr.html) for ion generation, using the Grompp module. The main default parameters for this execution are:\n",
    "-  integrator  = steep         ; Algorithm (steep = steepest descent minimization)\n",
    "-  emtol       = 1000.0        ; Stop minimization when the maximum force < 1000.0 kJ/mol/nm\n",
    "-  emstep      = 0.01          ; Minimization step size\n",
    "-  nsteps      = 50000         ; Maximum number of (minimization) steps to perform\n",
    "\n",
    "The main output of this BB will be the portable binary run file (.tpr)."
   ]
  },
  {
   "cell_type": "code",
   "execution_count": null,
   "metadata": {},
   "outputs": [],
   "source": [
    "# Grompp: Creating portable binary run file for ion generation\n",
    "from biobb_md.gromacs.grompp import Grompp\n",
    "# Create prop dict and inputs/outputs\n",
    "prop = {'mdp':{'type': 'minimization', 'nsteps':'5000'}}\n",
    "output_gppion_tpr_path = '1aki_gppion.tpr'\n",
    "#Create and launch bb\n",
    "Grompp(input_gro_path=output_solvate_gro_path, input_top_zip_path=output_solvate_top_zip_path, output_tpr_path=output_gppion_tpr_path,  properties=prop).launch()"
   ]
  },
  {
   "cell_type": "markdown",
   "metadata": {},
   "source": [
    "## Ion generation\n",
    "Replace solvent molecules to neutralice the system and then reach a 0.05 mol/litre concentration by default. Using the Genion module.\n",
    "The main output of this BB will be an updated post-procesed Gromacs structure file (.gro) and a zip file containing the updated topology file (.top) and the restriction files (.itp)."
   ]
  },
  {
   "cell_type": "code",
   "execution_count": null,
   "metadata": {},
   "outputs": [],
   "source": [
    "# Genion: Adding ions to reach a 0.05 nm concentration\n",
    "from biobb_md.gromacs.genion import Genion\n",
    "# Create prop dict and inputs/outputs\n",
    "prop={'neutral':True, 'concentration':0.05}\n",
    "output_genion_gro_path = '1aki_genion.gro'\n",
    "output_genion_top_zip_path = '1aki_genion_top.zip'\n",
    "#Create and launch bb\n",
    "Genion(input_tpr_path=output_gppion_tpr_path, output_gro_path=output_genion_gro_path, input_top_zip_path=output_solvate_top_zip_path, output_top_zip_path=output_genion_top_zip_path, properties=prop).launch()"
   ]
  },
  {
   "cell_type": "code",
   "execution_count": null,
   "metadata": {},
   "outputs": [],
   "source": [
    "#Show protein\n",
    "view = nglview.show_file(output_genion_gro_path)\n",
    "view.clear_representations()\n",
    "view.add_representation(repr_type='cartoon', selection='protein', color='sstruc')\n",
    "view.add_representation(repr_type='ball+stick', selection='NA')\n",
    "view.add_representation(repr_type='ball+stick', selection='CL')\n",
    "view._remote_call('setSize', target='Widget', args=['','600px'])\n",
    "view.camera='orthographic'\n",
    "view"
   ]
  },
  {
   "cell_type": "markdown",
   "metadata": {},
   "source": [
    "## Preprocess energy minimization\n",
    "Create the [portable binary run file (.tpr)](http://manual.gromacs.org/online/tpr.html) for energy minimization, using the Grompp module. The main default parameters for this execution are:\n",
    "-  integrator  = steep         ; Algorithm (steep = steepest descent minimization)\n",
    "-  emtol       = 500.0         ; Stop minimization when the maximum force < 1000.0 kJ/mol/nm\n",
    "-  emstep      = 0.01          ; Minimization step size\n",
    "-  nsteps      = 50000         ; Maximum number of (minimization) steps to perform\n",
    "\n",
    "The main output of this BB will be the portable binary run file (.tpr)."
   ]
  },
  {
   "cell_type": "code",
   "execution_count": null,
   "metadata": {},
   "outputs": [],
   "source": [
    "# Grompp: Creating portable binary run file for mdrun\n",
    "from biobb_md.gromacs.grompp import Grompp\n",
    "# Create prop dict and inputs/outputs\n",
    "prop = {'mdp':{'type': 'minimization', 'nsteps':'5000', 'emtol':'500'}}\n",
    "output_gppmin_tpr_path = '1aki_gppmin.tpr'\n",
    "#Create and launch bb\n",
    "Grompp(input_gro_path=output_genion_gro_path, input_top_zip_path=output_genion_top_zip_path, output_tpr_path=output_gppmin_tpr_path,  properties=prop).launch()"
   ]
  },
  {
   "cell_type": "markdown",
   "metadata": {},
   "source": [
    "## Execute system equilibration\n",
    "Execute the energy minimization using the MDrun module and the input the portable binary run file (.tpr) as the main input.\n",
    "The main output of this BB will be updated structure file (.gro) and the [Gromacs trajectory file](http://manual.gromacs.org/online/trr.html) (.trr)."
   ]
  },
  {
   "cell_type": "code",
   "execution_count": null,
   "metadata": {},
   "outputs": [],
   "source": [
    "# Mdrun: Running minimization\n",
    "from biobb_md.gromacs.mdrun import Mdrun\n",
    "# Create prop dict and inputs/outputs\n",
    "output_min_trr_path = '1aki_min.trr'\n",
    "output_min_gro_path = '1aki_min.gro'\n",
    "output_min_edr_path = '1aki_min.edr'\n",
    "output_min_log_path = '1aki_min.log'\n",
    "#Create and launch bb\n",
    "Mdrun(input_tpr_path=output_gppmin_tpr_path, output_trr_path=output_min_trr_path, output_gro_path=output_min_gro_path, output_edr_path=output_min_edr_path, output_log_path=output_min_log_path).launch()"
   ]
  },
  {
   "cell_type": "markdown",
   "metadata": {},
   "source": [
    "## Preprocess system temperature equilibration\n",
    "Equilibrate the solvent and ions restraining the protein heavy atoms\n",
    "Create the [portable binary run file (.tpr)](http://manual.gromacs.org/online/tpr.html) for system equilibration, using the Grompp module. The main default parameters for this execution are:\n",
    "-  Define                   = -DPOSRES\n",
    "-  integrator               = md\n",
    "-  dt                       = 0.002\n",
    "-  nsteps                   = 5000\n",
    "-  pcoupl                   = no\n",
    "-  gen_vel                  = yes\n",
    "-  gen_temp                 = 300\n",
    "-  gen_seed                 = -1\n",
    "\n",
    "The main output of this BB will be the portable binary run file (.tpr)."
   ]
  },
  {
   "cell_type": "code",
   "execution_count": null,
   "metadata": {},
   "outputs": [],
   "source": [
    "# Grompp: Creating portable binary run file for Equilibration\n",
    "from biobb_md.gromacs.grompp import Grompp\n",
    "# Create prop dict and inputs/outputs\n",
    "prop = {'mdp':{'type': 'nvt', 'nsteps':'5000'}}\n",
    "output_gppnvt_tpr_path = '1aki_gppnvt.tpr'\n",
    "#Create and launch bb\n",
    "Grompp(input_gro_path=output_min_gro_path, input_top_zip_path=output_genion_top_zip_path, output_tpr_path=output_gppnvt_tpr_path,  properties=prop).launch()"
   ]
  },
  {
   "cell_type": "markdown",
   "metadata": {},
   "source": [
    "## Execute system temperature equilibration\n",
    "Execute the system equilibration using the MDrun module and the input the portable binary run file (.tpr) as the main input.\n",
    "The main output of this BB will be updated structure file (.gro) and the [Gromacs trajectory file](http://manual.gromacs.org/online/trr.html) (.trr)."
   ]
  },
  {
   "cell_type": "code",
   "execution_count": null,
   "metadata": {},
   "outputs": [],
   "source": [
    "# Mdrun: Running Equilibration NVT\n",
    "from biobb_md.gromacs.mdrun import Mdrun\n",
    "# Create prop dict and inputs/outputs\n",
    "output_nvt_trr_path = '1aki_nvt.trr'\n",
    "output_nvt_gro_path = '1aki_nvt.gro'\n",
    "output_nvt_edr_path = '1aki_nvt.edr'\n",
    "output_nvt_log_path = '1aki_nvt.log'\n",
    "output_nvt_cpt_path = '1aki_nvt.cpt'\n",
    "#Create and launch bb\n",
    "Mdrun(input_tpr_path=output_gppnvt_tpr_path, output_trr_path=output_nvt_trr_path, output_gro_path=output_nvt_gro_path, output_edr_path=output_nvt_edr_path, output_log_path=output_nvt_log_path, output_cpt_path=output_nvt_cpt_path).launch()"
   ]
  },
  {
   "cell_type": "markdown",
   "metadata": {},
   "source": [
    "## Preprocess system pressure equilibration\n",
    "Equilibrate the solvent and ions restraining the protein heavy atoms.\n",
    "Create the [portable binary run file (.tpr)](http://manual.gromacs.org/online/tpr.html) for system equilibration, using the Grompp module. The main default parameters for this execution are:\n",
    "-  Define                   = -DPOSRES\n",
    "-  integrator               = md\n",
    "-  dt                       = 0.002\n",
    "-  nsteps                   = 5000\n",
    "-  pcoupl = Parrinello-Rahman\n",
    "-  pcoupltype = isotropic\n",
    "-  tau_p = 1.0\n",
    "-  ref_p = 1.0\n",
    "-  compressibility = 4.5e-5\n",
    "-  refcoord_scaling = com\n",
    "-  gen_vel = no\n",
    "\n",
    "The main output of this BB will be the portable binary run file (.tpr)."
   ]
  },
  {
   "cell_type": "code",
   "execution_count": null,
   "metadata": {},
   "outputs": [],
   "source": [
    "# Grompp: Creating portable binary run file for mdrun\n",
    "from biobb_md.gromacs.grompp import Grompp\n",
    "# Create prop dict and inputs/outputs\n",
    "prop = {'mdp':{'type': 'npt', 'nsteps':'5000'}}\n",
    "output_gppnpt_tpr_path = '1aki_gppnpt.tpr'\n",
    "#Create and launch bb\n",
    "Grompp(input_gro_path=output_nvt_gro_path, input_top_zip_path=output_genion_top_zip_path, output_tpr_path=output_gppnpt_tpr_path, input_cpt_path=output_nvt_cpt_path,  properties=prop).launch()"
   ]
  },
  {
   "cell_type": "markdown",
   "metadata": {},
   "source": [
    "## Execute system pressure equilibration\n",
    "Execute the system equilibration using the MDrun module and the input the portable binary run file (.tpr) as the main input.\n",
    "The main output of this BB will be updated structure file (.gro) and the [Gromacs trajectory file](http://manual.gromacs.org/online/trr.html) (.trr)."
   ]
  },
  {
   "cell_type": "code",
   "execution_count": null,
   "metadata": {},
   "outputs": [],
   "source": [
    "# Mdrun: Running minimization NPT\n",
    "from biobb_md.gromacs.mdrun import Mdrun\n",
    "# Create prop dict and inputs/outputs\n",
    "output_npt_trr_path = '1aki_npt.trr'\n",
    "output_npt_gro_path = '1aki_npt.gro'\n",
    "output_npt_edr_path = '1aki_npt.edr'\n",
    "output_npt_log_path = '1aki_npt.log'\n",
    "output_npt_cpt_path = '1aki_npt.cpt'\n",
    "#Create and launch bb\n",
    "Mdrun(input_tpr_path=output_gppnpt_tpr_path, output_trr_path=output_npt_trr_path, output_gro_path=output_npt_gro_path, output_edr_path=output_npt_edr_path, output_log_path=output_npt_log_path, output_cpt_path=output_npt_cpt_path).launch()"
   ]
  },
  {
   "cell_type": "markdown",
   "metadata": {},
   "source": [
    "## Preprocess free dynamics\n",
    "Free molecular dynamics simulation.\n",
    "Create the [portable binary run file (.tpr)](http://manual.gromacs.org/online/tpr.html) for free molecular dynamics simulation, using the Grompp module. The main default parameters for this execution are:\n",
    "-  integrator               = md\n",
    "-  dt                       = 0.002\n",
    "-  nsteps                   = 5000\n",
    "\n",
    "The main output of this BB will be the portable binary run file (.tpr)."
   ]
  },
  {
   "cell_type": "code",
   "execution_count": null,
   "metadata": {},
   "outputs": [],
   "source": [
    "# Grompp: Creating portable binary run file for mdrun\n",
    "from biobb_md.gromacs.grompp import Grompp\n",
    "# Create prop dict and inputs/outputs\n",
    "prop = {'mdp':{'type': 'free', 'nsteps':'15000'}}\n",
    "output_gppmd_tpr_path = '1aki_gppmd.tpr'\n",
    "#Create and launch bb\n",
    "Grompp(input_gro_path=output_npt_gro_path, input_top_zip_path=output_genion_top_zip_path, output_tpr_path=output_gppmd_tpr_path, input_cpt_path=output_npt_cpt_path, properties=prop).launch()"
   ]
  },
  {
   "cell_type": "markdown",
   "metadata": {},
   "source": [
    "## Execute free molecular dynamics simulation\n",
    "Execute the free molecular dynamics simulation  using the MDrun module and the input the portable binary run file (.tpr) as the main input.\n",
    "The main output of this BB will be updated structure file (.gro) and the [Gromacs trajectory file](http://manual.gromacs.org/online/trr.html) (.trr)."
   ]
  },
  {
   "cell_type": "code",
   "execution_count": null,
   "metadata": {},
   "outputs": [],
   "source": [
    "# Mdrun: Running free dynamics\n",
    "from biobb_md.gromacs.mdrun import Mdrun\n",
    "# Create prop dict and inputs/outputs\n",
    "output_md_trr_path = '1aki_md.trr'\n",
    "output_md_gro_path = '1aki_md.gro'\n",
    "output_md_edr_path = '1aki_md.edr'\n",
    "output_md_log_path = '1aki_md.log'\n",
    "output_md_cpt_path = '1aki_md.cpt'\n",
    "#Create and launch bb\n",
    "Mdrun(input_tpr_path=output_gppmd_tpr_path, output_trr_path=output_md_trr_path, output_gro_path=output_md_gro_path, output_edr_path=output_md_edr_path, output_log_path=output_md_log_path, output_cpt_path=output_md_cpt_path).launch()"
   ]
  },
  {
   "cell_type": "code",
   "execution_count": null,
   "metadata": {},
   "outputs": [],
   "source": [
    "#Show protein\n",
    "nglview.show_simpletraj(nglview.SimpletrajTrajectory(output_md_trr_path, output_md_gro_path), gui=True)"
   ]
  },
  {
   "cell_type": "code",
   "execution_count": null,
   "metadata": {},
   "outputs": [],
   "source": [
    "#List files\n",
    "!ls -lthr"
   ]
  },
  {
   "cell_type": "code",
   "execution_count": null,
   "metadata": {},
   "outputs": [],
   "source": [
    "#Download launch.sh and grompp.mdp\n",
    "!wget inb.bsc.es/patc/sim.tar"
   ]
  },
  {
   "cell_type": "code",
   "execution_count": null,
   "metadata": {},
   "outputs": [],
   "source": [
    "#Untar files\n",
    "!tar xvf sim.tar"
   ]
  },
  {
   "cell_type": "code",
   "execution_count": null,
   "metadata": {},
   "outputs": [],
   "source": [
    "#Copy the files to minotauro   XXX -> 083 to 102\n",
    "#Copy and paste into a new terminal the next two lines replacing the XXX by your number and removing the # symbol:\n",
    "\n",
    "#cd $HOME/biobb_wf_mutations\n",
    "#scp p2g.itp p2g.top 1aki_md.gro grompp.mdp launch.sh 1aki_sim.tpr nct01XXX@mt1.bsc.es:~/"
   ]
  },
  {
   "cell_type": "code",
   "execution_count": null,
   "metadata": {},
   "outputs": [],
   "source": [
    "# WARNING Don't execute this cell unless you want all your data to be removed\n",
    "#Clean the directory Remove everything\n",
    "#!find . ! \\( -iname \"*.ipynb\" \\) -exec rm -rf {} 2>/dev/null \\; -print"
   ]
  }
 ],
 "metadata": {
  "kernelspec": {
   "display_name": "Python 3",
   "language": "python",
   "name": "python3"
  },
  "language_info": {
   "codemirror_mode": {
    "name": "ipython",
    "version": 3
   },
   "file_extension": ".py",
   "mimetype": "text/x-python",
   "name": "python",
   "nbconvert_exporter": "python",
   "pygments_lexer": "ipython3",
   "version": "3.6.8"
  }
 },
 "nbformat": 4,
 "nbformat_minor": 2
}
