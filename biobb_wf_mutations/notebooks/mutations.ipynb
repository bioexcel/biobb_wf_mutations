{
 "cells": [
  {
   "cell_type": "markdown",
   "metadata": {},
   "source": [
    "# Lysozyme + Mutations tutorial using BIOBB\n",
    "Based on the official Gromacs tutorial: http://www.mdtutorials.com/gmx/lysozyme/01_pdb2gmx.html"
   ]
  },
  {
   "cell_type": "code",
   "execution_count": 1,
   "metadata": {},
   "outputs": [],
   "source": [
    "import nglview\n",
    "import ipywidgets"
   ]
  },
  {
   "cell_type": "markdown",
   "metadata": {},
   "source": [
    "## Dowload the initial Structure\n",
    "Download the initial PDB file from a PDB code (1AKI) from the RCSB (https://files.rcsb.org/download/).\n",
    "The PDB will be dowloaded without solvent or HETATM."
   ]
  },
  {
   "cell_type": "code",
   "execution_count": 2,
   "metadata": {},
   "outputs": [
    {
     "name": "stderr",
     "output_type": "stream",
     "text": [
      "2019-02-08 19:56:01,851 [MainThread  ] [INFO ]  Downloading: 1aki from: https://files.rcsb.org/download/1aki.pdb\n",
      "2019-02-08 19:56:02,466 [MainThread  ] [INFO ]  Writting pdb to: /Users/pau/projects/biobb_wf_mutations/biobb_wf_mutations/notebooks/1aki.pdb\n",
      "2019-02-08 19:56:02,468 [MainThread  ] [INFO ]  Filtering lines NOT starting with one of these words: ['ATOM', 'MODEL', 'ENDMDL']\n"
     ]
    }
   ],
   "source": [
    "#Import module\n",
    "from biobb_io.mmb_api.pdb import MmbPdb\n",
    "# Create properties dict and inputs/outputs\n",
    "prop = {'pdb_code':'1aki'}\n",
    "downloaded_pdb_path = '1aki.pdb'\n",
    "#Create and launch bb\n",
    "MmbPdb(output_pdb_path=downloaded_pdb_path, properties=prop).launch()"
   ]
  },
  {
   "cell_type": "code",
   "execution_count": 3,
   "metadata": {},
   "outputs": [
    {
     "data": {
      "application/vnd.jupyter.widget-view+json": {
       "model_id": "03839630957e4168abfd8d7f65fb1326",
       "version_major": 2,
       "version_minor": 0
      },
      "text/plain": [
       "NGLWidget()"
      ]
     },
     "metadata": {},
     "output_type": "display_data"
    }
   ],
   "source": [
    "#Show protein\n",
    "view = nglview.show_file(downloaded_pdb_path)\n",
    "view.add_representation(repr_type='ball+stick', selection='all')\n",
    "view._remote_call('setSize', target='Widget', args=['','600px'])\n",
    "view"
   ]
  },
  {
   "cell_type": "markdown",
   "metadata": {},
   "source": [
    "## Modeling the missing heavy atoms in the structure side chains\n",
    "This BB will reconstruct missing atoms from residue side chains and detect all kinds of clashes"
   ]
  },
  {
   "cell_type": "code",
   "execution_count": 4,
   "metadata": {},
   "outputs": [],
   "source": [
    "#Check & Fix PDB\n",
    "#Import module\n",
    "from biobb_model.model.fix_side_chain import FixSideChain\n",
    "# Create prop dict and inputs/outputs\n",
    "fixed_pdb_path = '1aki_fixed.pdb'\n",
    "#Create and launch bb\n",
    "FixSideChain(input_pdb_path=downloaded_pdb_path, output_pdb_path=fixed_pdb_path).launch()"
   ]
  },
  {
   "cell_type": "code",
   "execution_count": 5,
   "metadata": {},
   "outputs": [
    {
     "data": {
      "application/vnd.jupyter.widget-view+json": {
       "model_id": "c39bf59d210c4594869d95c99bd96820",
       "version_major": 2,
       "version_minor": 0
      },
      "text/plain": [
       "NGLWidget()"
      ]
     },
     "metadata": {},
     "output_type": "display_data"
    }
   ],
   "source": [
    "#Show protein\n",
    "view = nglview.show_file(fixed_pdb_path)\n",
    "view.add_representation(repr_type='ball+stick', selection='all')\n",
    "view._remote_call('setSize', target='Widget', args=['','600px'])\n",
    "view.camera='orthographic'\n",
    "view"
   ]
  },
  {
   "cell_type": "markdown",
   "metadata": {},
   "source": [
    "## Modeling mutation list\n",
    "This BB will mutate existing residues to the requested ones."
   ]
  },
  {
   "cell_type": "code",
   "execution_count": 6,
   "metadata": {},
   "outputs": [
    {
     "name": "stdout",
     "output_type": "stream",
     "text": [
      "Launching Mutate...\n"
     ]
    }
   ],
   "source": [
    "#Mutate protein\n",
    "# Import module to test\n",
    "from biobb_model.model.mutate import Mutate\n",
    "# Create prop dict and inputs/outputs\n",
    "prop = {'mutation_list': 'Val2Tyr, Val2Ala'}\n",
    "mutated_pdb_path = '1aki_mutated.pdb'\n",
    "#Create and launch bb\n",
    "Mutate(input_pdb_path=fixed_pdb_path,output_pdb_path=mutated_pdb_path, properties=prop).launch()"
   ]
  },
  {
   "cell_type": "code",
   "execution_count": 9,
   "metadata": {},
   "outputs": [
    {
     "data": {
      "application/vnd.jupyter.widget-view+json": {
       "model_id": "45cd4e9077324c3dab9823d44892dcad",
       "version_major": 2,
       "version_minor": 0
      },
      "text/plain": [
       "HBox(children=(NGLWidget(), NGLWidget()))"
      ]
     },
     "metadata": {},
     "output_type": "display_data"
    }
   ],
   "source": [
    "#Show log and protein\n",
    "view1 = nglview.show_file(fixed_pdb_path)\n",
    "view1.add_representation(repr_type='ball+stick', selection='2:A')\n",
    "view1._remote_call('setSize', target='Widget', args=['500px','600px'])\n",
    "view1.camera='orthographic'\n",
    "view2 = nglview.show_file(mutated_pdb_path)\n",
    "view2.add_representation(repr_type='ball+stick', selection='2:A')\n",
    "view2._remote_call('setSize', target='Widget', args=['500px','600px'])\n",
    "view2.camera='orthographic'\n",
    "ipywidgets.HBox([view1, view2])"
   ]
  },
  {
   "cell_type": "markdown",
   "metadata": {},
   "source": [
    "## Generate the topology\n",
    "Generate the topology using [Pdb2gmx](http://manual.gromacs.org/programs/gmx-pdb2gmx.html) module.\n",
    "The default forcefield is [amber99sb-ildn](https://www.ncbi.nlm.nih.gov/pmc/articles/PMC2970904/) and the default water_type is [spce](http://www.sklogwiki.org/SklogWiki/index.php/SPC/E_model_of_water).\n",
    "This BB will generate 2 main files:\n",
    "-  A compressed ZIP file containing:\n",
    "> -  The [Gromacs topology file](http://manual.gromacs.org/online/top.html) (.top)\n",
    "> -  The [Gromacs position restraint file](http://manual.gromacs.org/online/itp.html) (.itp)\n",
    "-  A post-processed [Gromacs structure file](http://manual.gromacs.org/current/online/gro.html) (.gro)"
   ]
  },
  {
   "cell_type": "code",
   "execution_count": 32,
   "metadata": {},
   "outputs": [
    {
     "name": "stderr",
     "output_type": "stream",
     "text": [
      "2019-01-24 11:05:41,807 [MainThread  ] [INFO ]  GROMACS Pdb2gmx 20181 version detected\n",
      "2019-01-24 11:05:42,199 [MainThread  ] [INFO ]  gmx pdb2gmx -f 1aki_mutated.pdb -o 1aki_pdb2gmx.gro -p p2g.top -water spce -ff amber99sb-ildn -i p2g.itp\n",
      "\n",
      "2019-01-24 11:05:42,201 [MainThread  ] [INFO ]  Exit code 0\n",
      "\n",
      "2019-01-24 11:05:42,202 [MainThread  ] [INFO ]  \n",
      "Using the Amber99sb-ildn force field in directory amber99sb-ildn.ff\n",
      "\n",
      "Reading 1aki_mutated.pdb...\n",
      "Read 1006 atoms\n",
      "Analyzing pdb file\n",
      "Splitting chemical chains based on TER records or chain id changing.\n",
      "There are 1 chains and 0 blocks of water and 129 residues with 1006 atoms\n",
      "\n",
      "  chain  #res #atoms\n",
      "  1 'A'   129   1006  \n",
      "\n",
      "Reading residue database... (amber99sb-ildn)\n",
      "Processing chain 1 'A' (1006 atoms, 129 residues)\n",
      "Identified residue LYS1 as a starting terminus.\n",
      "Identified residue LEU129 as a ending terminus.\n",
      "Checking for duplicate atoms....\n",
      "Generating any missing hydrogen atoms and/or adding termini.\n",
      "Now there are 129 residues with 1965 atoms\n",
      "\t\t--------- PLEASE NOTE ------------\n",
      "You have successfully generated a topology from: 1aki_mutated.pdb.\n",
      "The Amber99sb-ildn force field and the spce water model are used.\n",
      "\t\t--------- ETON ESAELP ------------\n",
      "\n",
      "2019-01-24 11:05:42,204 [MainThread  ] [INFO ]                       :-) GROMACS - gmx pdb2gmx, 2018.1 (-:\n",
      "\n",
      "                            GROMACS is written by:\n",
      "     Emile Apol      Rossen Apostolov      Paul Bauer     Herman J.C. Berendsen\n",
      "    Par Bjelkmar    Aldert van Buuren   Rudi van Drunen     Anton Feenstra  \n",
      "  Gerrit Groenhof    Aleksei Iupinov   Christoph Junghans   Anca Hamuraru   \n",
      " Vincent Hindriksen Dimitrios Karkoulis    Peter Kasson        Jiri Kraus    \n",
      "  Carsten Kutzner      Per Larsson      Justin A. Lemkul    Viveca Lindahl  \n",
      "  Magnus Lundborg   Pieter Meulenhoff    Erik Marklund      Teemu Murtola   \n",
      "    Szilard Pall       Sander Pronk      Roland Schulz     Alexey Shvetsov  \n",
      "   Michael Shirts     Alfons Sijbers     Peter Tieleman    Teemu Virolainen \n",
      " Christian Wennberg    Maarten Wolf   \n",
      "                           and the project leaders:\n",
      "        Mark Abraham, Berk Hess, Erik Lindahl, and David van der Spoel\n",
      "\n",
      "Copyright (c) 1991-2000, University of Groningen, The Netherlands.\n",
      "Copyright (c) 2001-2017, The GROMACS development team at\n",
      "Uppsala University, Stockholm University and\n",
      "the Royal Institute of Technology, Sweden.\n",
      "check out http://www.gromacs.org for more information.\n",
      "\n",
      "GROMACS is free software; you can redistribute it and/or modify it\n",
      "under the terms of the GNU Lesser General Public License\n",
      "as published by the Free Software Foundation; either version 2.1\n",
      "of the License, or (at your option) any later version.\n",
      "\n",
      "GROMACS:      gmx pdb2gmx, version 2018.1\n",
      "Executable:   /usr/local/gromacs/bin/gmx\n",
      "Data prefix:  /usr/local/gromacs\n",
      "Working dir:  /Users/pau/projects/biobb_wf_mutations/biobb_wf_mutations/notebooks\n",
      "Command line:\n",
      "  gmx pdb2gmx -f 1aki_mutated.pdb -o 1aki_pdb2gmx.gro -p p2g.top -water spce -ff amber99sb-ildn -i p2g.itp\n",
      "\n",
      "Opening force field file /usr/local/gromacs/share/gromacs/top/amber99sb-ildn.ff/aminoacids.r2b\n",
      "Opening force field file /usr/local/gromacs/share/gromacs/top/amber99sb-ildn.ff/dna.r2b\n",
      "Opening force field file /usr/local/gromacs/share/gromacs/top/amber99sb-ildn.ff/rna.r2b\n",
      "All occupancies are one\n",
      "Opening force field file /usr/local/gromacs/share/gromacs/top/amber99sb-ildn.ff/atomtypes.atp\n",
      "Atomtype 67\n",
      "Opening force field file /usr/local/gromacs/share/gromacs/top/amber99sb-ildn.ff/aminoacids.rtp\n",
      "Residue 93\n",
      "Sorting it all out...\n",
      "Opening force field file /usr/local/gromacs/share/gromacs/top/amber99sb-ildn.ff/dna.rtp\n",
      "Residue 109\n",
      "Sorting it all out...\n",
      "Opening force field file /usr/local/gromacs/share/gromacs/top/amber99sb-ildn.ff/rna.rtp\n",
      "Residue 125\n",
      "Sorting it all out...\n",
      "Opening force field file /usr/local/gromacs/share/gromacs/top/amber99sb-ildn.ff/aminoacids.hdb\n",
      "Opening force field file /usr/local/gromacs/share/gromacs/top/amber99sb-ildn.ff/dna.hdb\n",
      "Opening force field file /usr/local/gromacs/share/gromacs/top/amber99sb-ildn.ff/rna.hdb\n",
      "Opening force field file /usr/local/gromacs/share/gromacs/top/amber99sb-ildn.ff/aminoacids.n.tdb\n",
      "Opening force field file /usr/local/gromacs/share/gromacs/top/amber99sb-ildn.ff/aminoacids.c.tdb\n",
      "Analysing hydrogen-bonding network for automated assignment of histidine\n",
      " protonation. 214 donors and 185 acceptors were found.\n",
      "There are 255 hydrogen bonds\n",
      "Will use HISE for residue 15\n",
      "8 out of 8 lines of specbond.dat converted successfully\n",
      "Special Atom Distance matrix:\n",
      "                    CYS6   MET12   HIS15   CYS30   CYS64   CYS76   CYS80\n",
      "                    SG53    SD92  NE2123   SG243   SG518   SG606   SG635\n",
      "   MET12    SD92   1.166\n",
      "   HIS15  NE2123   1.776   1.019\n",
      "   CYS30   SG243   1.406   1.054   2.069\n",
      "   CYS64   SG518   2.835   1.794   1.789   2.241\n",
      "   CYS76   SG606   2.704   1.551   1.468   2.116   0.765\n",
      "   CYS80   SG635   2.959   1.951   1.916   2.391   0.199   0.944\n",
      "   CYS94   SG729   2.550   1.407   1.382   1.975   0.665   0.202   0.855\n",
      "  MET105   SD804   1.827   0.911   1.683   0.888   1.849   1.461   2.036\n",
      "  CYS115   SG894   1.576   1.084   2.078   0.200   2.111   1.989   2.262\n",
      "  CYS127   SG986   0.197   1.072   1.721   1.313   2.799   2.622   2.934\n",
      "                   CYS94  MET105  CYS115\n",
      "                   SG729   SD804   SG894\n",
      "  MET105   SD804   1.381\n",
      "  CYS115   SG894   1.853   0.790\n",
      "  CYS127   SG986   2.475   1.686   1.483\n",
      "Linking CYS-6 SG-53 and CYS-127 SG-986...\n",
      "Linking CYS-30 SG-243 and CYS-115 SG-894...\n",
      "Linking CYS-64 SG-518 and CYS-80 SG-635...\n",
      "Linking CYS-76 SG-606 and CYS-94 SG-729...\n",
      "Opening force field file /usr/local/gromacs/share/gromacs/top/amber99sb-ildn.ff/aminoacids.arn\n",
      "Opening force field file /usr/local/gromacs/share/gromacs/top/amber99sb-ildn.ff/dna.arn\n",
      "Opening force field file /usr/local/gromacs/share/gromacs/top/amber99sb-ildn.ff/rna.arn\n",
      "Making bonds...\n",
      "Number of bonds was 1991, now 1990\n",
      "Generating angles, dihedrals and pairs...\n",
      "Before cleaning: 5156 pairs\n",
      "Before cleaning: 5468 dihedrals\n",
      "Keeping all generated dihedrals\n",
      "Making cmap torsions...\n",
      "There are 5468 dihedrals,  432 impropers, 3554 angles\n",
      "          5117 pairs,     1990 bonds and     0 virtual sites\n",
      "Total mass 14377.372 a.m.u.\n",
      "Total charge 8.000 e\n",
      "Writing topology\n",
      "\n",
      "Writing coordinate file...\n",
      "\n",
      "GROMACS reminds you: \"Oh, There Goes Gravity\" (Eminem)\n",
      "\n",
      "\n",
      "2019-01-24 11:05:42,206 [MainThread  ] [INFO ]  Compressing topology to: 1aki_pdb2gmx_top.zip\n",
      "2019-01-24 11:05:42,207 [MainThread  ] [INFO ]  Ignored file amber99sb-ildn.ff/forcefield.itp\n",
      "2019-01-24 11:05:42,224 [MainThread  ] [INFO ]  Ignored file amber99sb-ildn.ff/spce.itp\n",
      "2019-01-24 11:05:42,225 [MainThread  ] [INFO ]  Ignored file amber99sb-ildn.ff/ions.itp\n",
      "2019-01-24 11:05:42,231 [MainThread  ] [INFO ]  Adding:\n",
      "2019-01-24 11:05:42,231 [MainThread  ] [INFO ]  ['p2g.itp', 'p2g.top']\n",
      "2019-01-24 11:05:42,232 [MainThread  ] [INFO ]  to: /Users/pau/projects/biobb_wf_mutations/biobb_wf_mutations/notebooks/1aki_pdb2gmx_top.zip\n",
      "2019-01-24 11:05:42,234 [MainThread  ] [INFO ]  Removed: ['p2g.top', 'p2g.itp']\n"
     ]
    },
    {
     "data": {
      "text/plain": [
       "0"
      ]
     },
     "execution_count": 32,
     "metadata": {},
     "output_type": "execute_result"
    }
   ],
   "source": [
    "#Create system topology\n",
    "# Import module\n",
    "from biobb_md.gromacs.pdb2gmx import Pdb2gmx\n",
    "# Create inputs/outputs\n",
    "output_pdb2gmx_gro_path = '1aki_pdb2gmx.gro'\n",
    "output_pdb2gmx_top_zip_path = '1aki_pdb2gmx_top.zip'\n",
    "#Create and launch bb\n",
    "Pdb2gmx(input_pdb_path=mutated_pdb_path, output_gro_path=output_pdb2gmx_gro_path, output_top_zip_path=output_pdb2gmx_top_zip_path).launch()"
   ]
  },
  {
   "cell_type": "code",
   "execution_count": 33,
   "metadata": {},
   "outputs": [
    {
     "data": {
      "application/vnd.jupyter.widget-view+json": {
       "model_id": "4d17a632e8774dfaa276abd31835fb2c",
       "version_major": 2,
       "version_minor": 0
      },
      "text/plain": [
       "NGLWidget()"
      ]
     },
     "metadata": {},
     "output_type": "display_data"
    }
   ],
   "source": [
    "#Show protein\n",
    "view = nglview.show_file(output_pdb2gmx_gro_path)\n",
    "view.add_representation(repr_type='ball+stick', selection='all')\n",
    "view._remote_call('setSize', target='Widget', args=['','600px'])\n",
    "view.camera='orthographic'\n",
    "view"
   ]
  },
  {
   "cell_type": "markdown",
   "metadata": {},
   "source": [
    "Note that hydrogen atoms had been added to the structure.\n",
    "***"
   ]
  },
  {
   "cell_type": "markdown",
   "metadata": {},
   "source": [
    "## Create the solvent box\n",
    "Create the solvent box using the [Editconf](http://manual.gromacs.org/programs/gmx-editconf.html) module. The box will be centered, the distance between the solute and the box will be 1.0nm and the box shape will be cubic by default. The main output of this BB will be an updated post-procesed Gromacs structure file (.gro). "
   ]
  },
  {
   "cell_type": "code",
   "execution_count": 34,
   "metadata": {},
   "outputs": [
    {
     "name": "stderr",
     "output_type": "stream",
     "text": [
      "2019-01-24 11:05:42,291 [MainThread  ] [INFO ]  GROMACS Editconf 20181 version detected\n",
      "2019-01-24 11:05:42,293 [MainThread  ] [INFO ]  Centering molecule in the box.\n",
      "2019-01-24 11:05:42,294 [MainThread  ] [INFO ]  Distance of the box to molecule:   1.00\n",
      "2019-01-24 11:05:42,295 [MainThread  ] [INFO ]  Box type: cubic\n",
      "2019-01-24 11:05:42,319 [MainThread  ] [INFO ]  gmx editconf -f 1aki_pdb2gmx.gro -o 1aki_editconf.gro -d 1.0 -bt cubic -c\n",
      "\n",
      "2019-01-24 11:05:42,321 [MainThread  ] [INFO ]  Exit code 0\n",
      "\n",
      "2019-01-24 11:05:42,321 [MainThread  ] [INFO ]  Read 1965 atoms\n",
      "Volume: 55.8378 nm^3, corresponds to roughly 25100 electrons\n",
      "No velocities found\n",
      "    system size :  3.817  4.234  3.454 (nm)\n",
      "    diameter    :  5.010               (nm)\n",
      "    center      :  2.781  2.484  0.015 (nm)\n",
      "    box vectors :  3.817  4.235  3.455 (nm)\n",
      "    box angles  :  90.00  90.00  90.00 (degrees)\n",
      "    box volume  :  55.84               (nm^3)\n",
      "    shift       :  0.724  1.021  3.490 (nm)\n",
      "new center      :  3.505  3.505  3.505 (nm)\n",
      "new box vectors :  7.010  7.010  7.010 (nm)\n",
      "new box angles  :  90.00  90.00  90.00 (degrees)\n",
      "new box volume  : 344.48               (nm^3)\n",
      "\n",
      "2019-01-24 11:05:42,322 [MainThread  ] [INFO ]                       :-) GROMACS - gmx editconf, 2018.1 (-:\n",
      "\n",
      "                            GROMACS is written by:\n",
      "     Emile Apol      Rossen Apostolov      Paul Bauer     Herman J.C. Berendsen\n",
      "    Par Bjelkmar    Aldert van Buuren   Rudi van Drunen     Anton Feenstra  \n",
      "  Gerrit Groenhof    Aleksei Iupinov   Christoph Junghans   Anca Hamuraru   \n",
      " Vincent Hindriksen Dimitrios Karkoulis    Peter Kasson        Jiri Kraus    \n",
      "  Carsten Kutzner      Per Larsson      Justin A. Lemkul    Viveca Lindahl  \n",
      "  Magnus Lundborg   Pieter Meulenhoff    Erik Marklund      Teemu Murtola   \n",
      "    Szilard Pall       Sander Pronk      Roland Schulz     Alexey Shvetsov  \n",
      "   Michael Shirts     Alfons Sijbers     Peter Tieleman    Teemu Virolainen \n",
      " Christian Wennberg    Maarten Wolf   \n",
      "                           and the project leaders:\n",
      "        Mark Abraham, Berk Hess, Erik Lindahl, and David van der Spoel\n",
      "\n",
      "Copyright (c) 1991-2000, University of Groningen, The Netherlands.\n",
      "Copyright (c) 2001-2017, The GROMACS development team at\n",
      "Uppsala University, Stockholm University and\n",
      "the Royal Institute of Technology, Sweden.\n",
      "check out http://www.gromacs.org for more information.\n",
      "\n",
      "GROMACS is free software; you can redistribute it and/or modify it\n",
      "under the terms of the GNU Lesser General Public License\n",
      "as published by the Free Software Foundation; either version 2.1\n",
      "of the License, or (at your option) any later version.\n",
      "\n",
      "GROMACS:      gmx editconf, version 2018.1\n",
      "Executable:   /usr/local/gromacs/bin/gmx\n",
      "Data prefix:  /usr/local/gromacs\n",
      "Working dir:  /Users/pau/projects/biobb_wf_mutations/biobb_wf_mutations/notebooks\n",
      "Command line:\n",
      "  gmx editconf -f 1aki_pdb2gmx.gro -o 1aki_editconf.gro -d 1.0 -bt cubic -c\n",
      "\n",
      "\n",
      "GROMACS reminds you: \"Scientists think they are born with logic; God forbid they should study this discipline with a history of more than two and a half millennia.\" (Roald Hoffmann)\n",
      "\n",
      "\n"
     ]
    },
    {
     "data": {
      "text/plain": [
       "0"
      ]
     },
     "execution_count": 34,
     "metadata": {},
     "output_type": "execute_result"
    }
   ],
   "source": [
    "# Editconf: Create solvent box\n",
    "# Import module\n",
    "from biobb_md.gromacs.editconf import Editconf\n",
    "# Create prop dict and inputs/outputs\n",
    "output_editconf_gro_path = '1aki_editconf.gro'\n",
    "#Create and launch bb\n",
    "Editconf(input_gro_path=output_pdb2gmx_gro_path, output_gro_path=output_editconf_gro_path).launch()"
   ]
  },
  {
   "cell_type": "markdown",
   "metadata": {},
   "source": [
    "## Fill the solvent box with water molecules\n",
    "Fill the solvent box using the Gromacs Solvate module. The \"spc216.gro\" will be default solvent model. The main output of this BB will be an updated post-procesed Gromacs structure file (.gro) and a zip file containing the updated topology file (.top) and the restriction files (.itp)."
   ]
  },
  {
   "cell_type": "code",
   "execution_count": 35,
   "metadata": {},
   "outputs": [
    {
     "name": "stderr",
     "output_type": "stream",
     "text": [
      "2019-01-24 11:05:42,351 [MainThread  ] [INFO ]  GROMACS Solvate 20181 version detected\n",
      "2019-01-24 11:05:42,357 [MainThread  ] [INFO ]  Extracting: /Users/pau/projects/biobb_wf_mutations/biobb_wf_mutations/notebooks/1aki_pdb2gmx_top.zip\n",
      "2019-01-24 11:05:42,357 [MainThread  ] [INFO ]  to:\n",
      "2019-01-24 11:05:42,358 [MainThread  ] [INFO ]  ['b2b543d7-8ac9-4bf0-a9e6-c1650c71b6b0/p2g.itp', 'b2b543d7-8ac9-4bf0-a9e6-c1650c71b6b0/p2g.top']\n",
      "2019-01-24 11:05:42,359 [MainThread  ] [INFO ]  Unzipping: \n",
      "2019-01-24 11:05:42,359 [MainThread  ] [INFO ]  1aki_pdb2gmx_top.zip\n",
      "2019-01-24 11:05:42,360 [MainThread  ] [INFO ]  To: \n",
      "2019-01-24 11:05:42,361 [MainThread  ] [INFO ]  b2b543d7-8ac9-4bf0-a9e6-c1650c71b6b0/p2g.itp\n",
      "2019-01-24 11:05:42,362 [MainThread  ] [INFO ]  b2b543d7-8ac9-4bf0-a9e6-c1650c71b6b0/p2g.top\n",
      "2019-01-24 11:05:42,598 [MainThread  ] [INFO ]  gmx solvate -cp 1aki_editconf.gro -cs spc216.gro -o 1aki_solvate.gro -p b2b543d7-8ac9-4bf0-a9e6-c1650c71b6b0/p2g.top\n",
      "\n",
      "2019-01-24 11:05:42,600 [MainThread  ] [INFO ]  Exit code 0\n",
      "\n",
      "2019-01-24 11:05:42,600 [MainThread  ] [INFO ]  \n",
      "WARNING: Masses and atomic (Van der Waals) radii will be guessed\n",
      "         based on residue and atom names, since they could not be\n",
      "         definitively assigned from the information in your input\n",
      "         files. These guessed numbers might deviate from the mass\n",
      "         and radius of the atom type. Please check the output\n",
      "         files if necessary.\n",
      "\n",
      "NOTE: From version 5.0 gmx solvate uses the Van der Waals radii\n",
      "from the source below. This means the results may be different\n",
      "compared to previous GROMACS versions.\n",
      "\n",
      "++++ PLEASE READ AND CITE THE FOLLOWING REFERENCE ++++\n",
      "A. Bondi\n",
      "van der Waals Volumes and Radii\n",
      "J. Phys. Chem. 68 (1964) pp. 441-451\n",
      "-------- -------- --- Thank You --- -------- --------\n",
      "\n",
      "Adding line for 10643 solvent molecules to topology file (b2b543d7-8ac9-4bf0-a9e6-c1650c71b6b0/p2g.top)\n",
      "\n",
      "2019-01-24 11:05:42,601 [MainThread  ] [INFO ]                       :-) GROMACS - gmx solvate, 2018.1 (-:\n",
      "\n",
      "                            GROMACS is written by:\n",
      "     Emile Apol      Rossen Apostolov      Paul Bauer     Herman J.C. Berendsen\n",
      "    Par Bjelkmar    Aldert van Buuren   Rudi van Drunen     Anton Feenstra  \n",
      "  Gerrit Groenhof    Aleksei Iupinov   Christoph Junghans   Anca Hamuraru   \n",
      " Vincent Hindriksen Dimitrios Karkoulis    Peter Kasson        Jiri Kraus    \n",
      "  Carsten Kutzner      Per Larsson      Justin A. Lemkul    Viveca Lindahl  \n",
      "  Magnus Lundborg   Pieter Meulenhoff    Erik Marklund      Teemu Murtola   \n",
      "    Szilard Pall       Sander Pronk      Roland Schulz     Alexey Shvetsov  \n",
      "   Michael Shirts     Alfons Sijbers     Peter Tieleman    Teemu Virolainen \n",
      " Christian Wennberg    Maarten Wolf   \n",
      "                           and the project leaders:\n",
      "        Mark Abraham, Berk Hess, Erik Lindahl, and David van der Spoel\n",
      "\n",
      "Copyright (c) 1991-2000, University of Groningen, The Netherlands.\n",
      "Copyright (c) 2001-2017, The GROMACS development team at\n",
      "Uppsala University, Stockholm University and\n",
      "the Royal Institute of Technology, Sweden.\n",
      "check out http://www.gromacs.org for more information.\n",
      "\n",
      "GROMACS is free software; you can redistribute it and/or modify it\n",
      "under the terms of the GNU Lesser General Public License\n",
      "as published by the Free Software Foundation; either version 2.1\n",
      "of the License, or (at your option) any later version.\n",
      "\n",
      "GROMACS:      gmx solvate, version 2018.1\n",
      "Executable:   /usr/local/gromacs/bin/gmx\n",
      "Data prefix:  /usr/local/gromacs\n",
      "Working dir:  /Users/pau/projects/biobb_wf_mutations/biobb_wf_mutations/notebooks\n",
      "Command line:\n",
      "  gmx solvate -cp 1aki_editconf.gro -cs spc216.gro -o 1aki_solvate.gro -p b2b543d7-8ac9-4bf0-a9e6-c1650c71b6b0/p2g.top\n",
      "\n",
      "Reading solute configuration\n",
      "Getting the Right Output Means no Artefacts in Calculating Stuff\n",
      "Containing 1965 atoms in 129 residues\n",
      "Reading solvent configuration\n",
      "216H2O,WATJP01,SPC216,SPC-MODEL,300K,BOX(M)=1.86206NM,WFVG,MAR. 1984\n",
      "Containing 648 atoms in 216 residues\n",
      "\n",
      "Initialising inter-atomic distances...\n",
      "Generating solvent configuration\n",
      "Will generate new solvent configuration of 4x4x4 boxes\n",
      "Solvent box contains 39252 atoms in 13084 residues\n",
      "Removed 5451 solvent atoms due to solvent-solvent overlap\n",
      "Removed 1872 solvent atoms due to solute-solvent overlap\n",
      "Sorting configuration\n",
      "Found 1 molecule type:\n",
      "    SOL (   3 atoms): 10643 residues\n",
      "Generated solvent containing 31929 atoms in 10643 residues\n",
      "Writing generated configuration to 1aki_solvate.gro\n",
      "\n",
      "Output configuration contains 33894 atoms in 10772 residues\n",
      "Volume                 :     344.484 (nm^3)\n",
      "Density                :     998.156 (g/l)\n",
      "Number of SOL molecules:  10643   \n",
      "\n",
      "Processing topology\n",
      "\n",
      "Back Off! I just backed up b2b543d7-8ac9-4bf0-a9e6-c1650c71b6b0/p2g.top to b2b543d7-8ac9-4bf0-a9e6-c1650c71b6b0/#p2g.top.1#\n",
      "\n",
      "GROMACS reminds you: \"Wait a Minute, aren't You.... ? (gunshots) Yeah.\" (Bodycount)\n",
      "\n",
      "\n",
      "2019-01-24 11:05:42,602 [MainThread  ] [INFO ]  Ignored file b2b543d7-8ac9-4bf0-a9e6-c1650c71b6b0/amber99sb-ildn.ff/forcefield.itp\n",
      "2019-01-24 11:05:42,618 [MainThread  ] [INFO ]  Ignored file b2b543d7-8ac9-4bf0-a9e6-c1650c71b6b0/amber99sb-ildn.ff/spce.itp\n",
      "2019-01-24 11:05:42,619 [MainThread  ] [INFO ]  Ignored file b2b543d7-8ac9-4bf0-a9e6-c1650c71b6b0/amber99sb-ildn.ff/ions.itp\n",
      "2019-01-24 11:05:42,625 [MainThread  ] [INFO ]  Adding:\n",
      "2019-01-24 11:05:42,626 [MainThread  ] [INFO ]  ['b2b543d7-8ac9-4bf0-a9e6-c1650c71b6b0/p2g.itp', 'b2b543d7-8ac9-4bf0-a9e6-c1650c71b6b0/p2g.top']\n",
      "2019-01-24 11:05:42,627 [MainThread  ] [INFO ]  to: /Users/pau/projects/biobb_wf_mutations/biobb_wf_mutations/notebooks/1aki_solvate_top.zip\n",
      "2019-01-24 11:05:42,630 [MainThread  ] [INFO ]  Removed: ['b2b543d7-8ac9-4bf0-a9e6-c1650c71b6b0']\n"
     ]
    },
    {
     "data": {
      "text/plain": [
       "0"
      ]
     },
     "execution_count": 35,
     "metadata": {},
     "output_type": "execute_result"
    }
   ],
   "source": [
    "# Solvate: Fill the box with water molecules\n",
    "from biobb_md.gromacs.solvate import Solvate\n",
    "# Create prop dict and inputs/outputs\n",
    "output_solvate_gro_path = '1aki_solvate.gro'\n",
    "output_solvate_top_zip_path = '1aki_solvate_top.zip'\n",
    "#Create and launch bb\n",
    "Solvate(input_solute_gro_path=output_editconf_gro_path, output_gro_path=output_solvate_gro_path, input_top_zip_path=output_pdb2gmx_top_zip_path, output_top_zip_path=output_solvate_top_zip_path).launch()"
   ]
  },
  {
   "cell_type": "code",
   "execution_count": 36,
   "metadata": {},
   "outputs": [
    {
     "data": {
      "application/vnd.jupyter.widget-view+json": {
       "model_id": "962a04feb3f94684b8c10b8a5e2bf8d5",
       "version_major": 2,
       "version_minor": 0
      },
      "text/plain": [
       "NGLWidget()"
      ]
     },
     "metadata": {},
     "output_type": "display_data"
    }
   ],
   "source": [
    "#Show protein\n",
    "view = nglview.show_file(output_solvate_gro_path)\n",
    "view.clear_representations()\n",
    "view.add_representation(repr_type='cartoon', selection='protein', color='green')\n",
    "view.add_representation(repr_type='ball+stick', selection='SOL')\n",
    "view._remote_call('setSize', target='Widget', args=['','600px'])\n",
    "view.camera='orthographic'\n",
    "view"
   ]
  },
  {
   "cell_type": "markdown",
   "metadata": {},
   "source": [
    "## Preprocess ion generation\n",
    "Create the [portable binary run file (.tpr)](http://manual.gromacs.org/online/tpr.html) for ion generation, using the Grompp module. The main default parameters for this execution are:\n",
    "-  integrator  = steep         ; Algorithm (steep = steepest descent minimization)\n",
    "-  emtol       = 1000.0        ; Stop minimization when the maximum force < 1000.0 kJ/mol/nm\n",
    "-  emstep      = 0.01          ; Minimization step size\n",
    "-  nsteps      = 50000         ; Maximum number of (minimization) steps to perform\n",
    "\n",
    "The main output of this BB will be the portable binary run file (.tpr)."
   ]
  },
  {
   "cell_type": "code",
   "execution_count": 37,
   "metadata": {},
   "outputs": [
    {
     "name": "stderr",
     "output_type": "stream",
     "text": [
      "2019-01-24 11:05:42,688 [MainThread  ] [INFO ]  GROMACS Grompp 20181 version detected\n",
      "2019-01-24 11:05:42,691 [MainThread  ] [INFO ]  Will run a minimization md of 5000 steps\n",
      "2019-01-24 11:05:42,698 [MainThread  ] [INFO ]  Extracting: /Users/pau/projects/biobb_wf_mutations/biobb_wf_mutations/notebooks/1aki_solvate_top.zip\n",
      "2019-01-24 11:05:42,699 [MainThread  ] [INFO ]  to:\n",
      "2019-01-24 11:05:42,701 [MainThread  ] [INFO ]  ['ce6ba4f0-2a66-4a82-8795-fe89c8ce1a67/p2g.itp', 'ce6ba4f0-2a66-4a82-8795-fe89c8ce1a67/p2g.top']\n",
      "2019-01-24 11:05:42,701 [MainThread  ] [INFO ]  Unzipping: \n",
      "2019-01-24 11:05:42,703 [MainThread  ] [INFO ]  1aki_solvate_top.zip\n",
      "2019-01-24 11:05:42,704 [MainThread  ] [INFO ]  To: \n",
      "2019-01-24 11:05:42,705 [MainThread  ] [INFO ]  ce6ba4f0-2a66-4a82-8795-fe89c8ce1a67/p2g.itp\n",
      "2019-01-24 11:05:42,706 [MainThread  ] [INFO ]  ce6ba4f0-2a66-4a82-8795-fe89c8ce1a67/p2g.top\n",
      "2019-01-24 11:05:42,999 [MainThread  ] [INFO ]  gmx grompp -f grompp.mdp -c 1aki_solvate.gro -r 1aki_solvate.gro -p ce6ba4f0-2a66-4a82-8795-fe89c8ce1a67/p2g.top -o 1aki_gppion.tpr -maxwarn 10\n",
      "\n",
      "2019-01-24 11:05:43,001 [MainThread  ] [INFO ]  Exit code 0\n",
      "\n",
      "2019-01-24 11:05:43,002 [MainThread  ] [INFO ]  \n",
      "++++ PLEASE READ AND CITE THE FOLLOWING REFERENCE ++++\n",
      "J. S. Hub, B. L. de Groot, H. Grubmueller, G. Groenhof\n",
      "Quantifying Artifacts in Ewald Simulations of Inhomogeneous Systems with a Net\n",
      "Charge\n",
      "J. Chem. Theory Comput. 10 (2014) pp. 381-393\n",
      "-------- -------- --- Thank You --- -------- --------\n",
      "\n",
      "Analysing residue names:\n",
      "There are:   129    Protein residues\n",
      "There are: 10643      Water residues\n",
      "Analysing Protein...\n",
      "Calculating fourier grid dimensions for X Y Z\n",
      "Using a fourier grid of 60x60x60, spacing 0.117 0.117 0.117\n",
      "This run will generate roughly 3 Mb of data\n",
      "\n",
      "2019-01-24 11:05:43,002 [MainThread  ] [INFO ]                        :-) GROMACS - gmx grompp, 2018.1 (-:\n",
      "\n",
      "                            GROMACS is written by:\n",
      "     Emile Apol      Rossen Apostolov      Paul Bauer     Herman J.C. Berendsen\n",
      "    Par Bjelkmar    Aldert van Buuren   Rudi van Drunen     Anton Feenstra  \n",
      "  Gerrit Groenhof    Aleksei Iupinov   Christoph Junghans   Anca Hamuraru   \n",
      " Vincent Hindriksen Dimitrios Karkoulis    Peter Kasson        Jiri Kraus    \n",
      "  Carsten Kutzner      Per Larsson      Justin A. Lemkul    Viveca Lindahl  \n",
      "  Magnus Lundborg   Pieter Meulenhoff    Erik Marklund      Teemu Murtola   \n",
      "    Szilard Pall       Sander Pronk      Roland Schulz     Alexey Shvetsov  \n",
      "   Michael Shirts     Alfons Sijbers     Peter Tieleman    Teemu Virolainen \n",
      " Christian Wennberg    Maarten Wolf   \n",
      "                           and the project leaders:\n",
      "        Mark Abraham, Berk Hess, Erik Lindahl, and David van der Spoel\n",
      "\n",
      "Copyright (c) 1991-2000, University of Groningen, The Netherlands.\n",
      "Copyright (c) 2001-2017, The GROMACS development team at\n",
      "Uppsala University, Stockholm University and\n",
      "the Royal Institute of Technology, Sweden.\n",
      "check out http://www.gromacs.org for more information.\n",
      "\n",
      "GROMACS is free software; you can redistribute it and/or modify it\n",
      "under the terms of the GNU Lesser General Public License\n",
      "as published by the Free Software Foundation; either version 2.1\n",
      "of the License, or (at your option) any later version.\n",
      "\n",
      "GROMACS:      gmx grompp, version 2018.1\n",
      "Executable:   /usr/local/gromacs/bin/gmx\n",
      "Data prefix:  /usr/local/gromacs\n",
      "Working dir:  /Users/pau/projects/biobb_wf_mutations/biobb_wf_mutations/notebooks\n",
      "Command line:\n",
      "  gmx grompp -f grompp.mdp -c 1aki_solvate.gro -r 1aki_solvate.gro -p ce6ba4f0-2a66-4a82-8795-fe89c8ce1a67/p2g.top -o 1aki_gppion.tpr -maxwarn 10\n",
      "\n",
      "Setting the LD random seed to -1173893916\n",
      "Generated 2211 of the 2211 non-bonded parameter combinations\n",
      "Generating 1-4 interactions: fudge = 0.5\n",
      "Generated 2211 of the 2211 1-4 parameter combinations\n",
      "Excluding 3 bonded neighbours molecule type 'Protein_chain_A'\n",
      "Excluding 2 bonded neighbours molecule type 'SOL'\n",
      "\n",
      "NOTE 1 [file p2g.top, line 18725]:\n",
      "  System has non-zero total charge: 8.000000\n",
      "  Total charge should normally be an integer. See\n",
      "  http://www.gromacs.org/Documentation/Floating_Point_Arithmetic\n",
      "  for discussion on how close it should be to an integer.\n",
      "  \n",
      "\n",
      "\n",
      "\n",
      "WARNING 1 [file p2g.top, line 18725]:\n",
      "  You are using Ewald electrostatics in a system with net charge. This can\n",
      "  lead to severe artifacts, such as ions moving into regions with low\n",
      "  dielectric, due to the uniform background charge. We suggest to\n",
      "  neutralize your system with counter ions, possibly in combination with a\n",
      "  physiological salt concentration.\n",
      "\n",
      "Removing all charge groups because cutoff-scheme=Verlet\n",
      "Number of degrees of freedom in T-Coupling group rest is 69750.00\n",
      "Estimate for the relative computational load of the PME mesh part: 0.24\n",
      "\n",
      "There was 1 note\n",
      "\n",
      "There was 1 warning\n",
      "\n",
      "GROMACS reminds you: \"When the universe has expanded, time will contract\" (Franz Ferdinand)\n",
      "\n",
      "\n",
      "2019-01-24 11:05:43,006 [MainThread  ] [INFO ]  Removed: ['ce6ba4f0-2a66-4a82-8795-fe89c8ce1a67', 'grompp.mdp', 'mdout.mdp']\n"
     ]
    },
    {
     "data": {
      "text/plain": [
       "0"
      ]
     },
     "execution_count": 37,
     "metadata": {},
     "output_type": "execute_result"
    }
   ],
   "source": [
    "# Grompp: Creating portable binary run file for ion generation\n",
    "from biobb_md.gromacs.grompp import Grompp\n",
    "# Create prop dict and inputs/outputs\n",
    "prop = {'mdp':{'type': 'minimization', 'nsteps':'5000'}}\n",
    "output_gppion_tpr_path = '1aki_gppion.tpr'\n",
    "#Create and launch bb\n",
    "Grompp(input_gro_path=output_solvate_gro_path, input_top_zip_path=output_solvate_top_zip_path, output_tpr_path=output_gppion_tpr_path,  properties=prop).launch()"
   ]
  },
  {
   "cell_type": "markdown",
   "metadata": {},
   "source": [
    "## Ion generation\n",
    "Replace solvent molecules to neutralice the system and then reach a 0.05 mol/litre concentration by default. Using the Genion module.\n",
    "The main output of this BB will be an updated post-procesed Gromacs structure file (.gro) and a zip file containing the updated topology file (.top) and the restriction files (.itp)."
   ]
  },
  {
   "cell_type": "code",
   "execution_count": 38,
   "metadata": {},
   "outputs": [
    {
     "name": "stderr",
     "output_type": "stream",
     "text": [
      "2019-01-24 11:05:43,037 [MainThread  ] [INFO ]  GROMACS Genion 20181 version detected\n",
      "2019-01-24 11:05:43,039 [MainThread  ] [INFO ]  To reach up 0.05 mol/litre concentration\n",
      "2019-01-24 11:05:43,045 [MainThread  ] [INFO ]  Extracting: /Users/pau/projects/biobb_wf_mutations/biobb_wf_mutations/notebooks/1aki_solvate_top.zip\n",
      "2019-01-24 11:05:43,046 [MainThread  ] [INFO ]  to:\n",
      "2019-01-24 11:05:43,047 [MainThread  ] [INFO ]  ['f43a4fba-3657-4166-9d74-4d3090961e74/p2g.itp', 'f43a4fba-3657-4166-9d74-4d3090961e74/p2g.top']\n",
      "2019-01-24 11:05:43,048 [MainThread  ] [INFO ]  Unzipping: \n",
      "2019-01-24 11:05:43,049 [MainThread  ] [INFO ]  1aki_solvate_top.zip\n",
      "2019-01-24 11:05:43,050 [MainThread  ] [INFO ]  To: \n",
      "2019-01-24 11:05:43,051 [MainThread  ] [INFO ]  f43a4fba-3657-4166-9d74-4d3090961e74/p2g.itp\n",
      "2019-01-24 11:05:43,052 [MainThread  ] [INFO ]  f43a4fba-3657-4166-9d74-4d3090961e74/p2g.top\n",
      "2019-01-24 11:05:43,163 [MainThread  ] [INFO ]  echo \"SOL\" | gmx genion -s 1aki_gppion.tpr -o 1aki_genion.gro -p f43a4fba-3657-4166-9d74-4d3090961e74/p2g.top -neutral -conc 0.05 -seed 1993\n",
      "\n",
      "2019-01-24 11:05:43,164 [MainThread  ] [INFO ]  Exit code 0\n",
      "\n",
      "2019-01-24 11:05:43,165 [MainThread  ] [INFO ]  Will try to add 10 NA ions and 18 CL ions.\n",
      "Select a continuous group of solvent molecules\n",
      "Selected 13: 'SOL'\n",
      "\n",
      "Processing topology\n",
      "Replacing 28 solute molecules in topology file (f43a4fba-3657-4166-9d74-4d3090961e74/p2g.top)  by 10 NA and 18 CL ions.\n",
      "\n",
      "2019-01-24 11:05:43,166 [MainThread  ] [INFO ]                        :-) GROMACS - gmx genion, 2018.1 (-:\n",
      "\n",
      "                            GROMACS is written by:\n",
      "     Emile Apol      Rossen Apostolov      Paul Bauer     Herman J.C. Berendsen\n",
      "    Par Bjelkmar    Aldert van Buuren   Rudi van Drunen     Anton Feenstra  \n",
      "  Gerrit Groenhof    Aleksei Iupinov   Christoph Junghans   Anca Hamuraru   \n",
      " Vincent Hindriksen Dimitrios Karkoulis    Peter Kasson        Jiri Kraus    \n",
      "  Carsten Kutzner      Per Larsson      Justin A. Lemkul    Viveca Lindahl  \n",
      "  Magnus Lundborg   Pieter Meulenhoff    Erik Marklund      Teemu Murtola   \n",
      "    Szilard Pall       Sander Pronk      Roland Schulz     Alexey Shvetsov  \n",
      "   Michael Shirts     Alfons Sijbers     Peter Tieleman    Teemu Virolainen \n",
      " Christian Wennberg    Maarten Wolf   \n",
      "                           and the project leaders:\n",
      "        Mark Abraham, Berk Hess, Erik Lindahl, and David van der Spoel\n",
      "\n",
      "Copyright (c) 1991-2000, University of Groningen, The Netherlands.\n",
      "Copyright (c) 2001-2017, The GROMACS development team at\n",
      "Uppsala University, Stockholm University and\n",
      "the Royal Institute of Technology, Sweden.\n",
      "check out http://www.gromacs.org for more information.\n",
      "\n",
      "GROMACS is free software; you can redistribute it and/or modify it\n",
      "under the terms of the GNU Lesser General Public License\n",
      "as published by the Free Software Foundation; either version 2.1\n",
      "of the License, or (at your option) any later version.\n",
      "\n",
      "GROMACS:      gmx genion, version 2018.1\n",
      "Executable:   /usr/local/gromacs/bin/gmx\n",
      "Data prefix:  /usr/local/gromacs\n",
      "Working dir:  /Users/pau/projects/biobb_wf_mutations/biobb_wf_mutations/notebooks\n",
      "Command line:\n",
      "  gmx genion -s 1aki_gppion.tpr -o 1aki_genion.gro -p f43a4fba-3657-4166-9d74-4d3090961e74/p2g.top -neutral -conc 0.05 -seed 1993\n",
      "\n",
      "Reading file 1aki_gppion.tpr, VERSION 2018.1 (single precision)\n",
      "Reading file 1aki_gppion.tpr, VERSION 2018.1 (single precision)\n",
      "Group     0 (         System) has 33894 elements\n",
      "Group     1 (        Protein) has  1965 elements\n",
      "Group     2 (      Protein-H) has  1006 elements\n",
      "Group     3 (        C-alpha) has   129 elements\n",
      "Group     4 (       Backbone) has   387 elements\n",
      "Group     5 (      MainChain) has   517 elements\n",
      "Group     6 (   MainChain+Cb) has   634 elements\n",
      "Group     7 (    MainChain+H) has   646 elements\n",
      "Group     8 (      SideChain) has  1319 elements\n",
      "Group     9 (    SideChain-H) has   489 elements\n",
      "Group    10 (    Prot-Masses) has  1965 elements\n",
      "Group    11 (    non-Protein) has 31929 elements\n",
      "Group    12 (          Water) has 31929 elements\n",
      "Group    13 (            SOL) has 31929 elements\n",
      "Group    14 (      non-Water) has  1965 elements\n",
      "Select a group: Number of (3-atomic) solvent molecules: 10643\n",
      "\n",
      "Back Off! I just backed up f43a4fba-3657-4166-9d74-4d3090961e74/p2g.top to f43a4fba-3657-4166-9d74-4d3090961e74/#p2g.top.1#\n",
      "Using random seed 1993.\n",
      "Replacing solvent molecule 6684 (atom 22017) with NA\n",
      "Replacing solvent molecule 3713 (atom 13104) with NA\n",
      "Replacing solvent molecule 6865 (atom 22560) with NA\n",
      "Replacing solvent molecule 6607 (atom 21786) with NA\n",
      "Replacing solvent molecule 2054 (atom 8127) with NA\n",
      "Replacing solvent molecule 3610 (atom 12795) with NA\n",
      "Replacing solvent molecule 2213 (atom 8604) with NA\n",
      "Replacing solvent molecule 2304 (atom 8877) with NA\n",
      "Replacing solvent molecule 1640 (atom 6885) with NA\n",
      "Replacing solvent molecule 2994 (atom 10947) with NA\n",
      "Replacing solvent molecule 905 (atom 4680) with CL\n",
      "Replacing solvent molecule 9779 (atom 31302) with CL\n",
      "Replacing solvent molecule 9064 (atom 29157) with CL\n",
      "Replacing solvent molecule 4558 (atom 15639) with CL\n",
      "Replacing solvent molecule 1900 (atom 7665) with CL\n",
      "Replacing solvent molecule 7505 (atom 24480) with CL\n",
      "Replacing solvent molecule 9184 (atom 29517) with CL\n",
      "Replacing solvent molecule 5771 (atom 19278) with CL\n",
      "Replacing solvent molecule 6751 (atom 22218) with CL\n",
      "Replacing solvent molecule 2902 (atom 10671) with CL\n",
      "Replacing solvent molecule 2024 (atom 8037) with CL\n",
      "Replacing solvent molecule 10621 (atom 33828) with CL\n",
      "Replacing solvent molecule 909 (atom 4692) with CL\n",
      "Replacing solvent molecule 10104 (atom 32277) with CL\n",
      "Replacing solvent molecule 3869 (atom 13572) with CL\n",
      "Replacing solvent molecule 4530 (atom 15555) with CL\n",
      "Replacing solvent molecule 5862 (atom 19551) with CL\n",
      "Replacing solvent molecule 8200 (atom 26565) with CL\n",
      "\n",
      "\n",
      "GROMACS reminds you: \"This May Come As a Shock\" (F. Black)\n",
      "\n",
      "\n",
      "2019-01-24 11:05:43,169 [MainThread  ] [INFO ]  Ignored file f43a4fba-3657-4166-9d74-4d3090961e74/amber99sb-ildn.ff/forcefield.itp\n",
      "2019-01-24 11:05:43,185 [MainThread  ] [INFO ]  Ignored file f43a4fba-3657-4166-9d74-4d3090961e74/amber99sb-ildn.ff/spce.itp\n",
      "2019-01-24 11:05:43,185 [MainThread  ] [INFO ]  Ignored file f43a4fba-3657-4166-9d74-4d3090961e74/amber99sb-ildn.ff/ions.itp\n",
      "2019-01-24 11:05:43,190 [MainThread  ] [INFO ]  Adding:\n",
      "2019-01-24 11:05:43,191 [MainThread  ] [INFO ]  ['f43a4fba-3657-4166-9d74-4d3090961e74/p2g.itp', 'f43a4fba-3657-4166-9d74-4d3090961e74/p2g.top']\n",
      "2019-01-24 11:05:43,193 [MainThread  ] [INFO ]  to: /Users/pau/projects/biobb_wf_mutations/biobb_wf_mutations/notebooks/1aki_genion_top.zip\n",
      "2019-01-24 11:05:43,196 [MainThread  ] [INFO ]  Removed: ['f43a4fba-3657-4166-9d74-4d3090961e74']\n"
     ]
    },
    {
     "data": {
      "text/plain": [
       "0"
      ]
     },
     "execution_count": 38,
     "metadata": {},
     "output_type": "execute_result"
    }
   ],
   "source": [
    "# Genion: Adding ions to reach a 0.05 nm concentration\n",
    "from biobb_md.gromacs.genion import Genion\n",
    "# Create prop dict and inputs/outputs\n",
    "prop={'neutral':True, 'concentration':0.05}\n",
    "output_genion_gro_path = '1aki_genion.gro'\n",
    "output_genion_top_zip_path = '1aki_genion_top.zip'\n",
    "#Create and launch bb\n",
    "Genion(input_tpr_path=output_gppion_tpr_path, output_gro_path=output_genion_gro_path, input_top_zip_path=output_solvate_top_zip_path, output_top_zip_path=output_genion_top_zip_path, properties=prop).launch()"
   ]
  },
  {
   "cell_type": "code",
   "execution_count": 39,
   "metadata": {},
   "outputs": [
    {
     "data": {
      "application/vnd.jupyter.widget-view+json": {
       "model_id": "07161a6bbd2e42d1a87a25609a868c83",
       "version_major": 2,
       "version_minor": 0
      },
      "text/plain": [
       "NGLWidget()"
      ]
     },
     "metadata": {},
     "output_type": "display_data"
    }
   ],
   "source": [
    "#Show protein\n",
    "view = nglview.show_file(output_genion_gro_path)\n",
    "view.clear_representations()\n",
    "view.add_representation(repr_type='cartoon', selection='protein', color='sstruc')\n",
    "view.add_representation(repr_type='ball+stick', selection='NA')\n",
    "view.add_representation(repr_type='ball+stick', selection='CL')\n",
    "view._remote_call('setSize', target='Widget', args=['','600px'])\n",
    "view.camera='orthographic'\n",
    "view"
   ]
  },
  {
   "cell_type": "markdown",
   "metadata": {},
   "source": [
    "## Preprocess energy minimization\n",
    "Create the [portable binary run file (.tpr)](http://manual.gromacs.org/online/tpr.html) for energy minimization, using the Grompp module. The main default parameters for this execution are:\n",
    "-  integrator  = steep         ; Algorithm (steep = steepest descent minimization)\n",
    "-  emtol       = 500.0         ; Stop minimization when the maximum force < 1000.0 kJ/mol/nm\n",
    "-  emstep      = 0.01          ; Minimization step size\n",
    "-  nsteps      = 50000         ; Maximum number of (minimization) steps to perform\n",
    "\n",
    "The main output of this BB will be the portable binary run file (.tpr)."
   ]
  },
  {
   "cell_type": "code",
   "execution_count": 40,
   "metadata": {},
   "outputs": [
    {
     "name": "stderr",
     "output_type": "stream",
     "text": [
      "2019-01-24 11:05:43,247 [MainThread  ] [INFO ]  GROMACS Grompp 20181 version detected\n",
      "2019-01-24 11:05:43,249 [MainThread  ] [INFO ]  Will run a minimization md of 5000 steps\n",
      "2019-01-24 11:05:43,254 [MainThread  ] [INFO ]  Extracting: /Users/pau/projects/biobb_wf_mutations/biobb_wf_mutations/notebooks/1aki_genion_top.zip\n",
      "2019-01-24 11:05:43,255 [MainThread  ] [INFO ]  to:\n",
      "2019-01-24 11:05:43,256 [MainThread  ] [INFO ]  ['c3e4dcf5-e186-4119-b5b4-5cb2537405fa/p2g.itp', 'c3e4dcf5-e186-4119-b5b4-5cb2537405fa/p2g.top']\n",
      "2019-01-24 11:05:43,256 [MainThread  ] [INFO ]  Unzipping: \n",
      "2019-01-24 11:05:43,257 [MainThread  ] [INFO ]  1aki_genion_top.zip\n",
      "2019-01-24 11:05:43,257 [MainThread  ] [INFO ]  To: \n",
      "2019-01-24 11:05:43,258 [MainThread  ] [INFO ]  c3e4dcf5-e186-4119-b5b4-5cb2537405fa/p2g.itp\n",
      "2019-01-24 11:05:43,259 [MainThread  ] [INFO ]  c3e4dcf5-e186-4119-b5b4-5cb2537405fa/p2g.top\n",
      "2019-01-24 11:05:43,536 [MainThread  ] [INFO ]  gmx grompp -f grompp.mdp -c 1aki_genion.gro -r 1aki_genion.gro -p c3e4dcf5-e186-4119-b5b4-5cb2537405fa/p2g.top -o 1aki_gppmin.tpr -maxwarn 10\n",
      "\n",
      "2019-01-24 11:05:43,538 [MainThread  ] [INFO ]  Exit code 0\n",
      "\n",
      "2019-01-24 11:05:43,539 [MainThread  ] [INFO ]  Analysing residue names:\n",
      "There are:   129    Protein residues\n",
      "There are: 10615      Water residues\n",
      "There are:    28        Ion residues\n",
      "Analysing Protein...\n",
      "Analysing residues not classified as Protein/DNA/RNA/Water and splitting into groups...\n",
      "Calculating fourier grid dimensions for X Y Z\n",
      "Using a fourier grid of 60x60x60, spacing 0.117 0.117 0.117\n",
      "This run will generate roughly 3 Mb of data\n",
      "\n",
      "2019-01-24 11:05:43,541 [MainThread  ] [INFO ]                        :-) GROMACS - gmx grompp, 2018.1 (-:\n",
      "\n",
      "                            GROMACS is written by:\n",
      "     Emile Apol      Rossen Apostolov      Paul Bauer     Herman J.C. Berendsen\n",
      "    Par Bjelkmar    Aldert van Buuren   Rudi van Drunen     Anton Feenstra  \n",
      "  Gerrit Groenhof    Aleksei Iupinov   Christoph Junghans   Anca Hamuraru   \n",
      " Vincent Hindriksen Dimitrios Karkoulis    Peter Kasson        Jiri Kraus    \n",
      "  Carsten Kutzner      Per Larsson      Justin A. Lemkul    Viveca Lindahl  \n",
      "  Magnus Lundborg   Pieter Meulenhoff    Erik Marklund      Teemu Murtola   \n",
      "    Szilard Pall       Sander Pronk      Roland Schulz     Alexey Shvetsov  \n",
      "   Michael Shirts     Alfons Sijbers     Peter Tieleman    Teemu Virolainen \n",
      " Christian Wennberg    Maarten Wolf   \n",
      "                           and the project leaders:\n",
      "        Mark Abraham, Berk Hess, Erik Lindahl, and David van der Spoel\n",
      "\n",
      "Copyright (c) 1991-2000, University of Groningen, The Netherlands.\n",
      "Copyright (c) 2001-2017, The GROMACS development team at\n",
      "Uppsala University, Stockholm University and\n",
      "the Royal Institute of Technology, Sweden.\n",
      "check out http://www.gromacs.org for more information.\n",
      "\n",
      "GROMACS is free software; you can redistribute it and/or modify it\n",
      "under the terms of the GNU Lesser General Public License\n",
      "as published by the Free Software Foundation; either version 2.1\n",
      "of the License, or (at your option) any later version.\n",
      "\n",
      "GROMACS:      gmx grompp, version 2018.1\n",
      "Executable:   /usr/local/gromacs/bin/gmx\n",
      "Data prefix:  /usr/local/gromacs\n",
      "Working dir:  /Users/pau/projects/biobb_wf_mutations/biobb_wf_mutations/notebooks\n",
      "Command line:\n",
      "  gmx grompp -f grompp.mdp -c 1aki_genion.gro -r 1aki_genion.gro -p c3e4dcf5-e186-4119-b5b4-5cb2537405fa/p2g.top -o 1aki_gppmin.tpr -maxwarn 10\n",
      "\n",
      "Setting the LD random seed to 1049329888\n",
      "Generated 2211 of the 2211 non-bonded parameter combinations\n",
      "Generating 1-4 interactions: fudge = 0.5\n",
      "Generated 2211 of the 2211 1-4 parameter combinations\n",
      "Excluding 3 bonded neighbours molecule type 'Protein_chain_A'\n",
      "Excluding 2 bonded neighbours molecule type 'SOL'\n",
      "Excluding 1 bonded neighbours molecule type 'NA'\n",
      "Excluding 1 bonded neighbours molecule type 'CL'\n",
      "Removing all charge groups because cutoff-scheme=Verlet\n",
      "Number of degrees of freedom in T-Coupling group rest is 69666.00\n",
      "Estimate for the relative computational load of the PME mesh part: 0.24\n",
      "\n",
      "GROMACS reminds you: \"The first 90% of the code accounts for the first 90% of the development time. The remaining 10% of the code accounts for the other 90% of the development time.\" (Tom Cargill)\n",
      "\n",
      "\n",
      "2019-01-24 11:05:43,544 [MainThread  ] [INFO ]  Removed: ['c3e4dcf5-e186-4119-b5b4-5cb2537405fa', 'grompp.mdp', 'mdout.mdp']\n"
     ]
    },
    {
     "data": {
      "text/plain": [
       "0"
      ]
     },
     "execution_count": 40,
     "metadata": {},
     "output_type": "execute_result"
    }
   ],
   "source": [
    "# Grompp: Creating portable binary run file for mdrun\n",
    "from biobb_md.gromacs.grompp import Grompp\n",
    "# Create prop dict and inputs/outputs\n",
    "prop = {'mdp':{'type': 'minimization', 'nsteps':'5000', 'emtol':'500'}}\n",
    "output_gppmin_tpr_path = '1aki_gppmin.tpr'\n",
    "#Create and launch bb\n",
    "Grompp(input_gro_path=output_genion_gro_path, input_top_zip_path=output_genion_top_zip_path, output_tpr_path=output_gppmin_tpr_path,  properties=prop).launch()"
   ]
  },
  {
   "cell_type": "markdown",
   "metadata": {},
   "source": [
    "## Execute system equilibration\n",
    "Execute the energy minimization using the MDrun module and the input the portable binary run file (.tpr) as the main input.\n",
    "The main output of this BB will be updated structure file (.gro) and the [Gromacs trajectory file](http://manual.gromacs.org/online/trr.html) (.trr)."
   ]
  },
  {
   "cell_type": "code",
   "execution_count": 41,
   "metadata": {},
   "outputs": [
    {
     "name": "stderr",
     "output_type": "stream",
     "text": [
      "2019-01-24 11:05:43,572 [MainThread  ] [INFO ]  GROMACS Mdrun 20181 version detected\n",
      "2019-01-24 11:06:31,773 [MainThread  ] [INFO ]  gmx mdrun -s 1aki_gppmin.tpr -o 1aki_min.trr -c 1aki_min.gro -e 1aki_min.edr -g 1aki_min.log -nt 0\n",
      "\n",
      "2019-01-24 11:06:31,775 [MainThread  ] [INFO ]  Exit code 0\n",
      "\n",
      "2019-01-24 11:06:31,775 [MainThread  ] [INFO ]                        :-) GROMACS - gmx mdrun, 2018.1 (-:\n",
      "\n",
      "                            GROMACS is written by:\n",
      "     Emile Apol      Rossen Apostolov      Paul Bauer     Herman J.C. Berendsen\n",
      "    Par Bjelkmar    Aldert van Buuren   Rudi van Drunen     Anton Feenstra  \n",
      "  Gerrit Groenhof    Aleksei Iupinov   Christoph Junghans   Anca Hamuraru   \n",
      " Vincent Hindriksen Dimitrios Karkoulis    Peter Kasson        Jiri Kraus    \n",
      "  Carsten Kutzner      Per Larsson      Justin A. Lemkul    Viveca Lindahl  \n",
      "  Magnus Lundborg   Pieter Meulenhoff    Erik Marklund      Teemu Murtola   \n",
      "    Szilard Pall       Sander Pronk      Roland Schulz     Alexey Shvetsov  \n",
      "   Michael Shirts     Alfons Sijbers     Peter Tieleman    Teemu Virolainen \n",
      " Christian Wennberg    Maarten Wolf   \n",
      "                           and the project leaders:\n",
      "        Mark Abraham, Berk Hess, Erik Lindahl, and David van der Spoel\n",
      "\n",
      "Copyright (c) 1991-2000, University of Groningen, The Netherlands.\n",
      "Copyright (c) 2001-2017, The GROMACS development team at\n",
      "Uppsala University, Stockholm University and\n",
      "the Royal Institute of Technology, Sweden.\n",
      "check out http://www.gromacs.org for more information.\n",
      "\n",
      "GROMACS is free software; you can redistribute it and/or modify it\n",
      "under the terms of the GNU Lesser General Public License\n",
      "as published by the Free Software Foundation; either version 2.1\n",
      "of the License, or (at your option) any later version.\n",
      "\n",
      "GROMACS:      gmx mdrun, version 2018.1\n",
      "Executable:   /usr/local/gromacs/bin/gmx\n",
      "Data prefix:  /usr/local/gromacs\n",
      "Working dir:  /Users/pau/projects/biobb_wf_mutations/biobb_wf_mutations/notebooks\n",
      "Command line:\n",
      "  gmx mdrun -s 1aki_gppmin.tpr -o 1aki_min.trr -c 1aki_min.gro -e 1aki_min.edr -g 1aki_min.log -nt 0\n",
      "\n",
      "Reading file 1aki_gppmin.tpr, VERSION 2018.1 (single precision)\n",
      "\n",
      "NOTE: disabling dynamic load balancing as it is only supported with dynamics, not with integrator 'steep'.\n",
      "\n",
      "Using 8 MPI threads\n",
      "\n",
      "Steepest Descents:\n",
      "   Tolerance (Fmax)   =  5.00000e+02\n",
      "   Number of steps    =         5000\n",
      "\n",
      "writing lowest energy coordinates.\n",
      "\n",
      "Steepest Descents converged to Fmax < 500 in 2148 steps\n",
      "Potential Energy  = -6.0091344e+05\n",
      "Maximum force     =  4.3514841e+02 on atom 1963\n",
      "Norm of force     =  1.1178135e+01\n",
      "\n",
      "GROMACS reminds you: \"And I Will Strike Down Upon Thee With Great Vengeance and With Furious Anger Those Who Attempt to Poison and Destroy My Brothers.\" (Pulp Fiction)\n",
      "\n",
      "\n",
      "2019-01-24 11:06:31,777 [MainThread  ] [INFO ]  Removed: []\n"
     ]
    },
    {
     "data": {
      "text/plain": [
       "0"
      ]
     },
     "execution_count": 41,
     "metadata": {},
     "output_type": "execute_result"
    }
   ],
   "source": [
    "# Mdrun: Running minimization\n",
    "from biobb_md.gromacs.mdrun import Mdrun\n",
    "# Create prop dict and inputs/outputs\n",
    "output_min_trr_path = '1aki_min.trr'\n",
    "output_min_gro_path = '1aki_min.gro'\n",
    "output_min_edr_path = '1aki_min.edr'\n",
    "output_min_log_path = '1aki_min.log'\n",
    "#Create and launch bb\n",
    "Mdrun(input_tpr_path=output_gppmin_tpr_path, output_trr_path=output_min_trr_path, output_gro_path=output_min_gro_path, output_edr_path=output_min_edr_path, output_log_path=output_min_log_path).launch()"
   ]
  },
  {
   "cell_type": "markdown",
   "metadata": {},
   "source": [
    "## Preprocess system temperature equilibration\n",
    "Equilibrate the solvent and ions restraining the protein heavy atoms\n",
    "Create the [portable binary run file (.tpr)](http://manual.gromacs.org/online/tpr.html) for system equilibration, using the Grompp module. The main default parameters for this execution are:\n",
    "-  Define                   = -DPOSRES\n",
    "-  integrator               = md\n",
    "-  dt                       = 0.002\n",
    "-  nsteps                   = 5000\n",
    "-  pcoupl                   = no\n",
    "-  gen_vel                  = yes\n",
    "-  gen_temp                 = 300\n",
    "-  gen_seed                 = -1\n",
    "\n",
    "The main output of this BB will be the portable binary run file (.tpr)."
   ]
  },
  {
   "cell_type": "code",
   "execution_count": 42,
   "metadata": {},
   "outputs": [
    {
     "name": "stderr",
     "output_type": "stream",
     "text": [
      "2019-01-24 11:06:31,808 [MainThread  ] [INFO ]  GROMACS Grompp 20181 version detected\n",
      "2019-01-24 11:06:31,811 [MainThread  ] [INFO ]  Will run a nvt md of 5000 steps\n",
      "2019-01-24 11:06:31,816 [MainThread  ] [INFO ]  Extracting: /Users/pau/projects/biobb_wf_mutations/biobb_wf_mutations/notebooks/1aki_genion_top.zip\n",
      "2019-01-24 11:06:31,817 [MainThread  ] [INFO ]  to:\n",
      "2019-01-24 11:06:31,818 [MainThread  ] [INFO ]  ['9ba54087-9a1e-441b-827c-f40c7142c778/p2g.itp', '9ba54087-9a1e-441b-827c-f40c7142c778/p2g.top']\n",
      "2019-01-24 11:06:31,819 [MainThread  ] [INFO ]  Unzipping: \n",
      "2019-01-24 11:06:31,821 [MainThread  ] [INFO ]  1aki_genion_top.zip\n",
      "2019-01-24 11:06:31,821 [MainThread  ] [INFO ]  To: \n",
      "2019-01-24 11:06:31,822 [MainThread  ] [INFO ]  9ba54087-9a1e-441b-827c-f40c7142c778/p2g.itp\n",
      "2019-01-24 11:06:31,823 [MainThread  ] [INFO ]  9ba54087-9a1e-441b-827c-f40c7142c778/p2g.top\n",
      "2019-01-24 11:06:32,234 [MainThread  ] [INFO ]  gmx grompp -f grompp.mdp -c 1aki_min.gro -r 1aki_min.gro -p 9ba54087-9a1e-441b-827c-f40c7142c778/p2g.top -o 1aki_gppnvt.tpr -maxwarn 10\n",
      "\n",
      "2019-01-24 11:06:32,236 [MainThread  ] [INFO ]  Exit code 0\n",
      "\n",
      "2019-01-24 11:06:32,236 [MainThread  ] [INFO ]  turning all bonds into constraints...\n",
      "turning all bonds into constraints...\n",
      "turning all bonds into constraints...\n",
      "turning all bonds into constraints...\n",
      "Analysing residue names:\n",
      "There are:   129    Protein residues\n",
      "There are: 10615      Water residues\n",
      "There are:    28        Ion residues\n",
      "Analysing Protein...\n",
      "Analysing residues not classified as Protein/DNA/RNA/Water and splitting into groups...\n",
      "Determining Verlet buffer for a tolerance of 0.005 kJ/mol/ps at 300 K\n",
      "Calculated rlist for 1x1 atom pair-list as 1.035 nm, buffer size 0.035 nm\n",
      "Set rlist, assuming 4x4 atom pair-list, to 1.000 nm, buffer size 0.000 nm\n",
      "Note that mdrun will redetermine rlist based on the actual pair-list setup\n",
      "Calculating fourier grid dimensions for X Y Z\n",
      "Using a fourier grid of 60x60x60, spacing 0.117 0.117 0.117\n",
      "This run will generate roughly 12 Mb of data\n",
      "\n",
      "2019-01-24 11:06:32,237 [MainThread  ] [INFO ]                        :-) GROMACS - gmx grompp, 2018.1 (-:\n",
      "\n",
      "                            GROMACS is written by:\n",
      "     Emile Apol      Rossen Apostolov      Paul Bauer     Herman J.C. Berendsen\n",
      "    Par Bjelkmar    Aldert van Buuren   Rudi van Drunen     Anton Feenstra  \n",
      "  Gerrit Groenhof    Aleksei Iupinov   Christoph Junghans   Anca Hamuraru   \n",
      " Vincent Hindriksen Dimitrios Karkoulis    Peter Kasson        Jiri Kraus    \n",
      "  Carsten Kutzner      Per Larsson      Justin A. Lemkul    Viveca Lindahl  \n",
      "  Magnus Lundborg   Pieter Meulenhoff    Erik Marklund      Teemu Murtola   \n",
      "    Szilard Pall       Sander Pronk      Roland Schulz     Alexey Shvetsov  \n",
      "   Michael Shirts     Alfons Sijbers     Peter Tieleman    Teemu Virolainen \n",
      " Christian Wennberg    Maarten Wolf   \n",
      "                           and the project leaders:\n",
      "        Mark Abraham, Berk Hess, Erik Lindahl, and David van der Spoel\n",
      "\n",
      "Copyright (c) 1991-2000, University of Groningen, The Netherlands.\n",
      "Copyright (c) 2001-2017, The GROMACS development team at\n",
      "Uppsala University, Stockholm University and\n",
      "the Royal Institute of Technology, Sweden.\n",
      "check out http://www.gromacs.org for more information.\n",
      "\n",
      "GROMACS is free software; you can redistribute it and/or modify it\n",
      "under the terms of the GNU Lesser General Public License\n",
      "as published by the Free Software Foundation; either version 2.1\n",
      "of the License, or (at your option) any later version.\n",
      "\n",
      "GROMACS:      gmx grompp, version 2018.1\n",
      "Executable:   /usr/local/gromacs/bin/gmx\n",
      "Data prefix:  /usr/local/gromacs\n",
      "Working dir:  /Users/pau/projects/biobb_wf_mutations/biobb_wf_mutations/notebooks\n",
      "Command line:\n",
      "  gmx grompp -f grompp.mdp -c 1aki_min.gro -r 1aki_min.gro -p 9ba54087-9a1e-441b-827c-f40c7142c778/p2g.top -o 1aki_gppnvt.tpr -maxwarn 10\n",
      "\n",
      "Setting the LD random seed to 441401227\n",
      "Generated 2211 of the 2211 non-bonded parameter combinations\n",
      "Generating 1-4 interactions: fudge = 0.5\n",
      "Generated 2211 of the 2211 1-4 parameter combinations\n",
      "Excluding 3 bonded neighbours molecule type 'Protein_chain_A'\n",
      "Excluding 2 bonded neighbours molecule type 'SOL'\n",
      "Excluding 1 bonded neighbours molecule type 'NA'\n",
      "Excluding 1 bonded neighbours molecule type 'CL'\n",
      "Setting gen_seed to 1710147488\n",
      "Velocities were taken from a Maxwell distribution at 300 K\n",
      "Removing all charge groups because cutoff-scheme=Verlet\n",
      "Number of degrees of freedom in T-Coupling group Protein is 3904.83\n",
      "Number of degrees of freedom in T-Coupling group non-Protein is 63771.17\n",
      "Estimate for the relative computational load of the PME mesh part: 0.26\n",
      "\n",
      "GROMACS reminds you: \"Here's the Way It Might End\" (G. Michael)\n",
      "\n",
      "\n",
      "2019-01-24 11:06:32,241 [MainThread  ] [INFO ]  Removed: ['9ba54087-9a1e-441b-827c-f40c7142c778', 'grompp.mdp', 'mdout.mdp']\n"
     ]
    },
    {
     "data": {
      "text/plain": [
       "0"
      ]
     },
     "execution_count": 42,
     "metadata": {},
     "output_type": "execute_result"
    }
   ],
   "source": [
    "# Grompp: Creating portable binary run file for Equilibration\n",
    "from biobb_md.gromacs.grompp import Grompp\n",
    "# Create prop dict and inputs/outputs\n",
    "prop = {'mdp':{'type': 'nvt', 'nsteps':'5000'}}\n",
    "output_gppnvt_tpr_path = '1aki_gppnvt.tpr'\n",
    "#Create and launch bb\n",
    "Grompp(input_gro_path=output_min_gro_path, input_top_zip_path=output_genion_top_zip_path, output_tpr_path=output_gppnvt_tpr_path,  properties=prop).launch()"
   ]
  },
  {
   "cell_type": "markdown",
   "metadata": {},
   "source": [
    "## Execute system temperature equilibration\n",
    "Execute the system equilibration using the MDrun module and the input the portable binary run file (.tpr) as the main input.\n",
    "The main output of this BB will be updated structure file (.gro) and the [Gromacs trajectory file](http://manual.gromacs.org/online/trr.html) (.trr)."
   ]
  },
  {
   "cell_type": "code",
   "execution_count": 43,
   "metadata": {},
   "outputs": [
    {
     "name": "stderr",
     "output_type": "stream",
     "text": [
      "2019-01-24 11:06:32,271 [MainThread  ] [INFO ]  GROMACS Mdrun 20181 version detected\n",
      "2019-01-24 11:07:19,722 [MainThread  ] [INFO ]  gmx mdrun -s 1aki_gppnvt.tpr -o 1aki_nvt.trr -c 1aki_nvt.gro -e 1aki_nvt.edr -g 1aki_nvt.log -nt 0 -cpo 1aki_nvt.cpt\n",
      "\n",
      "2019-01-24 11:07:19,724 [MainThread  ] [INFO ]  Exit code 0\n",
      "\n",
      "2019-01-24 11:07:19,725 [MainThread  ] [INFO ]                        :-) GROMACS - gmx mdrun, 2018.1 (-:\n",
      "\n",
      "                            GROMACS is written by:\n",
      "     Emile Apol      Rossen Apostolov      Paul Bauer     Herman J.C. Berendsen\n",
      "    Par Bjelkmar    Aldert van Buuren   Rudi van Drunen     Anton Feenstra  \n",
      "  Gerrit Groenhof    Aleksei Iupinov   Christoph Junghans   Anca Hamuraru   \n",
      " Vincent Hindriksen Dimitrios Karkoulis    Peter Kasson        Jiri Kraus    \n",
      "  Carsten Kutzner      Per Larsson      Justin A. Lemkul    Viveca Lindahl  \n",
      "  Magnus Lundborg   Pieter Meulenhoff    Erik Marklund      Teemu Murtola   \n",
      "    Szilard Pall       Sander Pronk      Roland Schulz     Alexey Shvetsov  \n",
      "   Michael Shirts     Alfons Sijbers     Peter Tieleman    Teemu Virolainen \n",
      " Christian Wennberg    Maarten Wolf   \n",
      "                           and the project leaders:\n",
      "        Mark Abraham, Berk Hess, Erik Lindahl, and David van der Spoel\n",
      "\n",
      "Copyright (c) 1991-2000, University of Groningen, The Netherlands.\n",
      "Copyright (c) 2001-2017, The GROMACS development team at\n",
      "Uppsala University, Stockholm University and\n",
      "the Royal Institute of Technology, Sweden.\n",
      "check out http://www.gromacs.org for more information.\n",
      "\n",
      "GROMACS is free software; you can redistribute it and/or modify it\n",
      "under the terms of the GNU Lesser General Public License\n",
      "as published by the Free Software Foundation; either version 2.1\n",
      "of the License, or (at your option) any later version.\n",
      "\n",
      "GROMACS:      gmx mdrun, version 2018.1\n",
      "Executable:   /usr/local/gromacs/bin/gmx\n",
      "Data prefix:  /usr/local/gromacs\n",
      "Working dir:  /Users/pau/projects/biobb_wf_mutations/biobb_wf_mutations/notebooks\n",
      "Command line:\n",
      "  gmx mdrun -s 1aki_gppnvt.tpr -o 1aki_nvt.trr -c 1aki_nvt.gro -e 1aki_nvt.edr -g 1aki_nvt.log -nt 0 -cpo 1aki_nvt.cpt\n",
      "\n",
      "Reading file 1aki_gppnvt.tpr, VERSION 2018.1 (single precision)\n",
      "Changing nstlist from 10 to 50, rlist from 1 to 1.115\n",
      "\n",
      "Using 8 MPI threads\n",
      "starting mdrun 'Protein in water'\n",
      "5000 steps,     10.0 ps.\n",
      "\n",
      "step 100 Turning on dynamic load balancing, because the performance loss due to load imbalance is 3.2 %.\n",
      "\n",
      "\n",
      "step 3000 Turning off dynamic load balancing, because it is degrading performance.\n",
      "\n",
      "\n",
      "Writing final coordinates.\n",
      "\n",
      " Dynamic load balancing report:\n",
      " DLB was off during the run due to low measured imbalance.\n",
      " Average load imbalance: 3.4%.\n",
      " The balanceable part of the MD step is 60%, load imbalance is computed from this.\n",
      " Part of the total run time spent waiting due to load imbalance: 2.1%.\n",
      "\n",
      "\n",
      "               Core t (s)   Wall t (s)        (%)\n",
      "       Time:      364.632       45.579      800.0\n",
      "                 (ns/day)    (hour/ns)\n",
      "Performance:       18.960        1.266\n",
      "\n",
      "GROMACS reminds you: \"The determined Real Programmer can write FORTRAN programs in any language.\" (Ed Post)\n",
      "\n",
      "\n",
      "2019-01-24 11:07:19,726 [MainThread  ] [INFO ]  Removed: ['traj_comp.xtc']\n"
     ]
    },
    {
     "data": {
      "text/plain": [
       "0"
      ]
     },
     "execution_count": 43,
     "metadata": {},
     "output_type": "execute_result"
    }
   ],
   "source": [
    "# Mdrun: Running Equilibration NVT\n",
    "from biobb_md.gromacs.mdrun import Mdrun\n",
    "# Create prop dict and inputs/outputs\n",
    "output_nvt_trr_path = '1aki_nvt.trr'\n",
    "output_nvt_gro_path = '1aki_nvt.gro'\n",
    "output_nvt_edr_path = '1aki_nvt.edr'\n",
    "output_nvt_log_path = '1aki_nvt.log'\n",
    "output_nvt_cpt_path = '1aki_nvt.cpt'\n",
    "#Create and launch bb\n",
    "Mdrun(input_tpr_path=output_gppnvt_tpr_path, output_trr_path=output_nvt_trr_path, output_gro_path=output_nvt_gro_path, output_edr_path=output_nvt_edr_path, output_log_path=output_nvt_log_path, output_cpt_path=output_nvt_cpt_path).launch()"
   ]
  },
  {
   "cell_type": "markdown",
   "metadata": {},
   "source": [
    "## Preprocess system pressure equilibration\n",
    "Equilibrate the solvent and ions restraining the protein heavy atoms.\n",
    "Create the [portable binary run file (.tpr)](http://manual.gromacs.org/online/tpr.html) for system equilibration, using the Grompp module. The main default parameters for this execution are:\n",
    "-  Define                   = -DPOSRES\n",
    "-  integrator               = md\n",
    "-  dt                       = 0.002\n",
    "-  nsteps                   = 5000\n",
    "-  pcoupl = Parrinello-Rahman\n",
    "-  pcoupltype = isotropic\n",
    "-  tau_p = 1.0\n",
    "-  ref_p = 1.0\n",
    "-  compressibility = 4.5e-5\n",
    "-  refcoord_scaling = com\n",
    "-  gen_vel = no\n",
    "\n",
    "The main output of this BB will be the portable binary run file (.tpr)."
   ]
  },
  {
   "cell_type": "code",
   "execution_count": 44,
   "metadata": {},
   "outputs": [
    {
     "name": "stderr",
     "output_type": "stream",
     "text": [
      "2019-01-24 11:07:19,758 [MainThread  ] [INFO ]  GROMACS Grompp 20181 version detected\n",
      "2019-01-24 11:07:19,761 [MainThread  ] [INFO ]  Will run a npt md of 5000 steps\n",
      "2019-01-24 11:07:19,768 [MainThread  ] [INFO ]  Extracting: /Users/pau/projects/biobb_wf_mutations/biobb_wf_mutations/notebooks/1aki_genion_top.zip\n",
      "2019-01-24 11:07:19,769 [MainThread  ] [INFO ]  to:\n",
      "2019-01-24 11:07:19,770 [MainThread  ] [INFO ]  ['1444c7db-b3eb-4301-af17-20ea72ce1515/p2g.itp', '1444c7db-b3eb-4301-af17-20ea72ce1515/p2g.top']\n",
      "2019-01-24 11:07:19,771 [MainThread  ] [INFO ]  Unzipping: \n",
      "2019-01-24 11:07:19,772 [MainThread  ] [INFO ]  1aki_genion_top.zip\n",
      "2019-01-24 11:07:19,773 [MainThread  ] [INFO ]  To: \n",
      "2019-01-24 11:07:19,774 [MainThread  ] [INFO ]  1444c7db-b3eb-4301-af17-20ea72ce1515/p2g.itp\n",
      "2019-01-24 11:07:19,775 [MainThread  ] [INFO ]  1444c7db-b3eb-4301-af17-20ea72ce1515/p2g.top\n",
      "2019-01-24 11:07:20,276 [MainThread  ] [INFO ]  gmx grompp -f grompp.mdp -c 1aki_nvt.gro -r 1aki_nvt.gro -p 1444c7db-b3eb-4301-af17-20ea72ce1515/p2g.top -o 1aki_gppnpt.tpr -maxwarn 10 -t 1aki_nvt.cpt\n",
      "\n",
      "2019-01-24 11:07:20,278 [MainThread  ] [INFO ]  Exit code 0\n",
      "\n",
      "2019-01-24 11:07:20,279 [MainThread  ] [INFO ]  turning all bonds into constraints...\n",
      "turning all bonds into constraints...\n",
      "turning all bonds into constraints...\n",
      "turning all bonds into constraints...\n",
      "Analysing residue names:\n",
      "There are:   129    Protein residues\n",
      "There are: 10615      Water residues\n",
      "There are:    28        Ion residues\n",
      "Analysing Protein...\n",
      "Analysing residues not classified as Protein/DNA/RNA/Water and splitting into groups...\n",
      "Determining Verlet buffer for a tolerance of 0.005 kJ/mol/ps at 300 K\n",
      "Calculated rlist for 1x1 atom pair-list as 1.035 nm, buffer size 0.035 nm\n",
      "Set rlist, assuming 4x4 atom pair-list, to 1.000 nm, buffer size 0.000 nm\n",
      "Note that mdrun will redetermine rlist based on the actual pair-list setup\n",
      "Calculating fourier grid dimensions for X Y Z\n",
      "Using a fourier grid of 60x60x60, spacing 0.117 0.117 0.117\n",
      "This run will generate roughly 12 Mb of data\n",
      "\n",
      "2019-01-24 11:07:20,280 [MainThread  ] [INFO ]                        :-) GROMACS - gmx grompp, 2018.1 (-:\n",
      "\n",
      "                            GROMACS is written by:\n",
      "     Emile Apol      Rossen Apostolov      Paul Bauer     Herman J.C. Berendsen\n",
      "    Par Bjelkmar    Aldert van Buuren   Rudi van Drunen     Anton Feenstra  \n",
      "  Gerrit Groenhof    Aleksei Iupinov   Christoph Junghans   Anca Hamuraru   \n",
      " Vincent Hindriksen Dimitrios Karkoulis    Peter Kasson        Jiri Kraus    \n",
      "  Carsten Kutzner      Per Larsson      Justin A. Lemkul    Viveca Lindahl  \n",
      "  Magnus Lundborg   Pieter Meulenhoff    Erik Marklund      Teemu Murtola   \n",
      "    Szilard Pall       Sander Pronk      Roland Schulz     Alexey Shvetsov  \n",
      "   Michael Shirts     Alfons Sijbers     Peter Tieleman    Teemu Virolainen \n",
      " Christian Wennberg    Maarten Wolf   \n",
      "                           and the project leaders:\n",
      "        Mark Abraham, Berk Hess, Erik Lindahl, and David van der Spoel\n",
      "\n",
      "Copyright (c) 1991-2000, University of Groningen, The Netherlands.\n",
      "Copyright (c) 2001-2017, The GROMACS development team at\n",
      "Uppsala University, Stockholm University and\n",
      "the Royal Institute of Technology, Sweden.\n",
      "check out http://www.gromacs.org for more information.\n",
      "\n",
      "GROMACS is free software; you can redistribute it and/or modify it\n",
      "under the terms of the GNU Lesser General Public License\n",
      "as published by the Free Software Foundation; either version 2.1\n",
      "of the License, or (at your option) any later version.\n",
      "\n",
      "GROMACS:      gmx grompp, version 2018.1\n",
      "Executable:   /usr/local/gromacs/bin/gmx\n",
      "Data prefix:  /usr/local/gromacs\n",
      "Working dir:  /Users/pau/projects/biobb_wf_mutations/biobb_wf_mutations/notebooks\n",
      "Command line:\n",
      "  gmx grompp -f grompp.mdp -c 1aki_nvt.gro -r 1aki_nvt.gro -p 1444c7db-b3eb-4301-af17-20ea72ce1515/p2g.top -o 1aki_gppnpt.tpr -maxwarn 10 -t 1aki_nvt.cpt\n",
      "\n",
      "Setting the LD random seed to 708321922\n",
      "Generated 2211 of the 2211 non-bonded parameter combinations\n",
      "Generating 1-4 interactions: fudge = 0.5\n",
      "Generated 2211 of the 2211 1-4 parameter combinations\n",
      "Excluding 3 bonded neighbours molecule type 'Protein_chain_A'\n",
      "Excluding 2 bonded neighbours molecule type 'SOL'\n",
      "Excluding 1 bonded neighbours molecule type 'NA'\n",
      "Excluding 1 bonded neighbours molecule type 'CL'\n",
      "Removing all charge groups because cutoff-scheme=Verlet\n",
      "\n",
      "NOTE 1 [file p2g.top, line 18727]:\n",
      "  You are combining position restraints with Parrinello-Rahman pressure\n",
      "  coupling, which can lead to instabilities. If you really want to combine\n",
      "  position restraints with pressure coupling, we suggest to use Berendsen\n",
      "  pressure coupling instead.\n",
      "\n",
      "The center of mass of the position restraint coord's is  3.489  3.520  3.500\n",
      "The center of mass of the position restraint coord's is  3.489  3.520  3.500\n",
      "Number of degrees of freedom in T-Coupling group Protein is 3904.83\n",
      "Number of degrees of freedom in T-Coupling group non-Protein is 63771.17\n",
      "Reading Coordinates, Velocities and Box size from old trajectory\n",
      "Will read whole trajectory\n",
      "Last frame         -1 time   10.000   \n",
      "Using frame at t = 10 ps\n",
      "Starting time for run is 0 ps\n",
      "Estimate for the relative computational load of the PME mesh part: 0.26\n",
      "\n",
      "There was 1 note\n",
      "\n",
      "GROMACS reminds you: \"I Got a Forty Dollar Bill\" (F. Zappa)\n",
      "\n",
      "\n",
      "2019-01-24 11:07:20,284 [MainThread  ] [INFO ]  Removed: ['1444c7db-b3eb-4301-af17-20ea72ce1515', 'grompp.mdp', 'mdout.mdp']\n"
     ]
    },
    {
     "data": {
      "text/plain": [
       "0"
      ]
     },
     "execution_count": 44,
     "metadata": {},
     "output_type": "execute_result"
    }
   ],
   "source": [
    "# Grompp: Creating portable binary run file for mdrun\n",
    "from biobb_md.gromacs.grompp import Grompp\n",
    "# Create prop dict and inputs/outputs\n",
    "prop = {'mdp':{'type': 'npt', 'nsteps':'5000'}}\n",
    "output_gppnpt_tpr_path = '1aki_gppnpt.tpr'\n",
    "#Create and launch bb\n",
    "Grompp(input_gro_path=output_nvt_gro_path, input_top_zip_path=output_genion_top_zip_path, output_tpr_path=output_gppnpt_tpr_path, input_cpt_path=output_nvt_cpt_path,  properties=prop).launch()"
   ]
  },
  {
   "cell_type": "markdown",
   "metadata": {},
   "source": [
    "## Execute system pressure equilibration\n",
    "Execute the system equilibration using the MDrun module and the input the portable binary run file (.tpr) as the main input.\n",
    "The main output of this BB will be updated structure file (.gro) and the [Gromacs trajectory file](http://manual.gromacs.org/online/trr.html) (.trr)."
   ]
  },
  {
   "cell_type": "code",
   "execution_count": 45,
   "metadata": {},
   "outputs": [
    {
     "name": "stderr",
     "output_type": "stream",
     "text": [
      "2019-01-24 11:07:20,312 [MainThread  ] [INFO ]  GROMACS Mdrun 20181 version detected\n",
      "2019-01-24 11:08:07,446 [MainThread  ] [INFO ]  gmx mdrun -s 1aki_gppnpt.tpr -o 1aki_npt.trr -c 1aki_npt.gro -e 1aki_npt.edr -g 1aki_npt.log -nt 0 -cpo 1aki_npt.cpt\n",
      "\n",
      "2019-01-24 11:08:07,448 [MainThread  ] [INFO ]  Exit code 0\n",
      "\n",
      "2019-01-24 11:08:07,449 [MainThread  ] [INFO ]                        :-) GROMACS - gmx mdrun, 2018.1 (-:\n",
      "\n",
      "                            GROMACS is written by:\n",
      "     Emile Apol      Rossen Apostolov      Paul Bauer     Herman J.C. Berendsen\n",
      "    Par Bjelkmar    Aldert van Buuren   Rudi van Drunen     Anton Feenstra  \n",
      "  Gerrit Groenhof    Aleksei Iupinov   Christoph Junghans   Anca Hamuraru   \n",
      " Vincent Hindriksen Dimitrios Karkoulis    Peter Kasson        Jiri Kraus    \n",
      "  Carsten Kutzner      Per Larsson      Justin A. Lemkul    Viveca Lindahl  \n",
      "  Magnus Lundborg   Pieter Meulenhoff    Erik Marklund      Teemu Murtola   \n",
      "    Szilard Pall       Sander Pronk      Roland Schulz     Alexey Shvetsov  \n",
      "   Michael Shirts     Alfons Sijbers     Peter Tieleman    Teemu Virolainen \n",
      " Christian Wennberg    Maarten Wolf   \n",
      "                           and the project leaders:\n",
      "        Mark Abraham, Berk Hess, Erik Lindahl, and David van der Spoel\n",
      "\n",
      "Copyright (c) 1991-2000, University of Groningen, The Netherlands.\n",
      "Copyright (c) 2001-2017, The GROMACS development team at\n",
      "Uppsala University, Stockholm University and\n",
      "the Royal Institute of Technology, Sweden.\n",
      "check out http://www.gromacs.org for more information.\n",
      "\n",
      "GROMACS is free software; you can redistribute it and/or modify it\n",
      "under the terms of the GNU Lesser General Public License\n",
      "as published by the Free Software Foundation; either version 2.1\n",
      "of the License, or (at your option) any later version.\n",
      "\n",
      "GROMACS:      gmx mdrun, version 2018.1\n",
      "Executable:   /usr/local/gromacs/bin/gmx\n",
      "Data prefix:  /usr/local/gromacs\n",
      "Working dir:  /Users/pau/projects/biobb_wf_mutations/biobb_wf_mutations/notebooks\n",
      "Command line:\n",
      "  gmx mdrun -s 1aki_gppnpt.tpr -o 1aki_npt.trr -c 1aki_npt.gro -e 1aki_npt.edr -g 1aki_npt.log -nt 0 -cpo 1aki_npt.cpt\n",
      "\n",
      "Reading file 1aki_gppnpt.tpr, VERSION 2018.1 (single precision)\n",
      "Changing nstlist from 10 to 50, rlist from 1 to 1.115\n",
      "\n",
      "Using 8 MPI threads\n",
      "starting mdrun 'Protein in water'\n",
      "5000 steps,     10.0 ps.\n",
      "\n",
      "step 150 Turning on dynamic load balancing, because the performance loss due to load imbalance is 2.9 %.\n",
      "\n",
      "\n",
      "Writing final coordinates.\n",
      "\n",
      " Dynamic load balancing report:\n",
      " DLB was turned on during the run due to measured imbalance.\n",
      " Average load imbalance: 3.0%.\n",
      " The balanceable part of the MD step is 61%, load imbalance is computed from this.\n",
      " Part of the total run time spent waiting due to load imbalance: 1.8%.\n",
      " Steps where the load balancing was limited by -rdd, -rcon and/or -dds: X 0 % Y 0 %\n",
      "\n",
      "\n",
      "               Core t (s)   Wall t (s)        (%)\n",
      "       Time:      362.278       45.285      800.0\n",
      "                 (ns/day)    (hour/ns)\n",
      "Performance:       19.083        1.258\n",
      "\n",
      "GROMACS reminds you: \"Everybody is Smashing Things Down\" (Offspring)\n",
      "\n",
      "\n",
      "2019-01-24 11:08:07,451 [MainThread  ] [INFO ]  Removed: ['traj_comp.xtc']\n"
     ]
    },
    {
     "data": {
      "text/plain": [
       "0"
      ]
     },
     "execution_count": 45,
     "metadata": {},
     "output_type": "execute_result"
    }
   ],
   "source": [
    "# Mdrun: Running minimization NPT\n",
    "from biobb_md.gromacs.mdrun import Mdrun\n",
    "# Create prop dict and inputs/outputs\n",
    "output_npt_trr_path = '1aki_npt.trr'\n",
    "output_npt_gro_path = '1aki_npt.gro'\n",
    "output_npt_edr_path = '1aki_npt.edr'\n",
    "output_npt_log_path = '1aki_npt.log'\n",
    "output_npt_cpt_path = '1aki_npt.cpt'\n",
    "#Create and launch bb\n",
    "Mdrun(input_tpr_path=output_gppnpt_tpr_path, output_trr_path=output_npt_trr_path, output_gro_path=output_npt_gro_path, output_edr_path=output_npt_edr_path, output_log_path=output_npt_log_path, output_cpt_path=output_npt_cpt_path).launch()"
   ]
  },
  {
   "cell_type": "markdown",
   "metadata": {},
   "source": [
    "## Preprocess free dynamics\n",
    "Free molecular dynamics simulation.\n",
    "Create the [portable binary run file (.tpr)](http://manual.gromacs.org/online/tpr.html) for free molecular dynamics simulation, using the Grompp module. The main default parameters for this execution are:\n",
    "-  integrator               = md\n",
    "-  dt                       = 0.002\n",
    "-  nsteps                   = 5000\n",
    "\n",
    "The main output of this BB will be the portable binary run file (.tpr)."
   ]
  },
  {
   "cell_type": "code",
   "execution_count": 46,
   "metadata": {},
   "outputs": [
    {
     "name": "stderr",
     "output_type": "stream",
     "text": [
      "2019-01-24 11:08:07,481 [MainThread  ] [INFO ]  GROMACS Grompp 20181 version detected\n",
      "2019-01-24 11:08:07,483 [MainThread  ] [INFO ]  Will run a free md of 30.0 pico seconds\n",
      "2019-01-24 11:08:07,489 [MainThread  ] [INFO ]  Extracting: /Users/pau/projects/biobb_wf_mutations/biobb_wf_mutations/notebooks/1aki_genion_top.zip\n",
      "2019-01-24 11:08:07,490 [MainThread  ] [INFO ]  to:\n",
      "2019-01-24 11:08:07,491 [MainThread  ] [INFO ]  ['865ca228-1f37-46e9-81c7-407b87206990/p2g.itp', '865ca228-1f37-46e9-81c7-407b87206990/p2g.top']\n",
      "2019-01-24 11:08:07,492 [MainThread  ] [INFO ]  Unzipping: \n",
      "2019-01-24 11:08:07,493 [MainThread  ] [INFO ]  1aki_genion_top.zip\n",
      "2019-01-24 11:08:07,494 [MainThread  ] [INFO ]  To: \n",
      "2019-01-24 11:08:07,495 [MainThread  ] [INFO ]  865ca228-1f37-46e9-81c7-407b87206990/p2g.itp\n",
      "2019-01-24 11:08:07,496 [MainThread  ] [INFO ]  865ca228-1f37-46e9-81c7-407b87206990/p2g.top\n",
      "2019-01-24 11:08:07,872 [MainThread  ] [INFO ]  gmx grompp -f grompp.mdp -c 1aki_npt.gro -r 1aki_npt.gro -p 865ca228-1f37-46e9-81c7-407b87206990/p2g.top -o 1aki_gppmd.tpr -maxwarn 10 -t 1aki_npt.cpt\n",
      "\n",
      "2019-01-24 11:08:07,874 [MainThread  ] [INFO ]  Exit code 0\n",
      "\n",
      "2019-01-24 11:08:07,876 [MainThread  ] [INFO ]  turning all bonds into constraints...\n",
      "turning all bonds into constraints...\n",
      "turning all bonds into constraints...\n",
      "turning all bonds into constraints...\n",
      "Analysing residue names:\n",
      "There are:   129    Protein residues\n",
      "There are: 10615      Water residues\n",
      "There are:    28        Ion residues\n",
      "Analysing Protein...\n",
      "Analysing residues not classified as Protein/DNA/RNA/Water and splitting into groups...\n",
      "Determining Verlet buffer for a tolerance of 0.005 kJ/mol/ps at 300 K\n",
      "Calculated rlist for 1x1 atom pair-list as 1.035 nm, buffer size 0.035 nm\n",
      "Set rlist, assuming 4x4 atom pair-list, to 1.000 nm, buffer size 0.000 nm\n",
      "Note that mdrun will redetermine rlist based on the actual pair-list setup\n",
      "Calculating fourier grid dimensions for X Y Z\n",
      "Using a fourier grid of 60x60x60, spacing 0.116 0.116 0.116\n",
      "This run will generate roughly 8 Mb of data\n",
      "\n",
      "2019-01-24 11:08:07,876 [MainThread  ] [INFO ]                        :-) GROMACS - gmx grompp, 2018.1 (-:\n",
      "\n",
      "                            GROMACS is written by:\n",
      "     Emile Apol      Rossen Apostolov      Paul Bauer     Herman J.C. Berendsen\n",
      "    Par Bjelkmar    Aldert van Buuren   Rudi van Drunen     Anton Feenstra  \n",
      "  Gerrit Groenhof    Aleksei Iupinov   Christoph Junghans   Anca Hamuraru   \n",
      " Vincent Hindriksen Dimitrios Karkoulis    Peter Kasson        Jiri Kraus    \n",
      "  Carsten Kutzner      Per Larsson      Justin A. Lemkul    Viveca Lindahl  \n",
      "  Magnus Lundborg   Pieter Meulenhoff    Erik Marklund      Teemu Murtola   \n",
      "    Szilard Pall       Sander Pronk      Roland Schulz     Alexey Shvetsov  \n",
      "   Michael Shirts     Alfons Sijbers     Peter Tieleman    Teemu Virolainen \n",
      " Christian Wennberg    Maarten Wolf   \n",
      "                           and the project leaders:\n",
      "        Mark Abraham, Berk Hess, Erik Lindahl, and David van der Spoel\n",
      "\n",
      "Copyright (c) 1991-2000, University of Groningen, The Netherlands.\n",
      "Copyright (c) 2001-2017, The GROMACS development team at\n",
      "Uppsala University, Stockholm University and\n",
      "the Royal Institute of Technology, Sweden.\n",
      "check out http://www.gromacs.org for more information.\n",
      "\n",
      "GROMACS is free software; you can redistribute it and/or modify it\n",
      "under the terms of the GNU Lesser General Public License\n",
      "as published by the Free Software Foundation; either version 2.1\n",
      "of the License, or (at your option) any later version.\n",
      "\n",
      "GROMACS:      gmx grompp, version 2018.1\n",
      "Executable:   /usr/local/gromacs/bin/gmx\n",
      "Data prefix:  /usr/local/gromacs\n",
      "Working dir:  /Users/pau/projects/biobb_wf_mutations/biobb_wf_mutations/notebooks\n",
      "Command line:\n",
      "  gmx grompp -f grompp.mdp -c 1aki_npt.gro -r 1aki_npt.gro -p 865ca228-1f37-46e9-81c7-407b87206990/p2g.top -o 1aki_gppmd.tpr -maxwarn 10 -t 1aki_npt.cpt\n",
      "\n",
      "Setting the LD random seed to 1132113686\n",
      "Generated 2211 of the 2211 non-bonded parameter combinations\n",
      "Generating 1-4 interactions: fudge = 0.5\n",
      "Generated 2211 of the 2211 1-4 parameter combinations\n",
      "Excluding 3 bonded neighbours molecule type 'Protein_chain_A'\n",
      "Excluding 2 bonded neighbours molecule type 'SOL'\n",
      "Excluding 1 bonded neighbours molecule type 'NA'\n",
      "Excluding 1 bonded neighbours molecule type 'CL'\n",
      "Removing all charge groups because cutoff-scheme=Verlet\n",
      "Number of degrees of freedom in T-Coupling group Protein is 3904.83\n",
      "Number of degrees of freedom in T-Coupling group non-Protein is 63771.17\n",
      "Reading Coordinates, Velocities and Box size from old trajectory\n",
      "Will read whole trajectory\n",
      "Last frame         -1 time   10.000   \n",
      "Using frame at t = 10 ps\n",
      "Starting time for run is 0 ps\n",
      "Estimate for the relative computational load of the PME mesh part: 0.26\n",
      "\n",
      "GROMACS reminds you: \"Do not quench your inspiration and your imagination; do not become the slave of your model.\" (Vincent Van Gogh)\n",
      "\n",
      "\n",
      "2019-01-24 11:08:07,879 [MainThread  ] [INFO ]  Removed: ['865ca228-1f37-46e9-81c7-407b87206990', 'grompp.mdp', 'mdout.mdp']\n"
     ]
    },
    {
     "data": {
      "text/plain": [
       "0"
      ]
     },
     "execution_count": 46,
     "metadata": {},
     "output_type": "execute_result"
    }
   ],
   "source": [
    "# Grompp: Creating portable binary run file for mdrun\n",
    "from biobb_md.gromacs.grompp import Grompp\n",
    "# Create prop dict and inputs/outputs\n",
    "prop = {'mdp':{'type': 'free', 'nsteps':'15000'}}\n",
    "output_gppmd_tpr_path = '1aki_gppmd.tpr'\n",
    "#Create and launch bb\n",
    "Grompp(input_gro_path=output_npt_gro_path, input_top_zip_path=output_genion_top_zip_path, output_tpr_path=output_gppmd_tpr_path, input_cpt_path=output_npt_cpt_path, properties=prop).launch()"
   ]
  },
  {
   "cell_type": "markdown",
   "metadata": {},
   "source": [
    "## Execute free molecular dynamics simulation\n",
    "Execute the free molecular dynamics simulation  using the MDrun module and the input the portable binary run file (.tpr) as the main input.\n",
    "The main output of this BB will be updated structure file (.gro) and the [Gromacs trajectory file](http://manual.gromacs.org/online/trr.html) (.trr)."
   ]
  },
  {
   "cell_type": "code",
   "execution_count": 47,
   "metadata": {},
   "outputs": [
    {
     "name": "stderr",
     "output_type": "stream",
     "text": [
      "2019-01-24 11:08:07,907 [MainThread  ] [INFO ]  GROMACS Mdrun 20181 version detected\n",
      "2019-01-24 11:10:27,472 [MainThread  ] [INFO ]  gmx mdrun -s 1aki_gppmd.tpr -o 1aki_md.trr -c 1aki_md.gro -e 1aki_md.edr -g 1aki_md.log -nt 0 -cpo 1aki_md.cpt\n",
      "\n",
      "2019-01-24 11:10:27,474 [MainThread  ] [INFO ]  Exit code 0\n",
      "\n",
      "2019-01-24 11:10:27,475 [MainThread  ] [INFO ]                        :-) GROMACS - gmx mdrun, 2018.1 (-:\n",
      "\n",
      "                            GROMACS is written by:\n",
      "     Emile Apol      Rossen Apostolov      Paul Bauer     Herman J.C. Berendsen\n",
      "    Par Bjelkmar    Aldert van Buuren   Rudi van Drunen     Anton Feenstra  \n",
      "  Gerrit Groenhof    Aleksei Iupinov   Christoph Junghans   Anca Hamuraru   \n",
      " Vincent Hindriksen Dimitrios Karkoulis    Peter Kasson        Jiri Kraus    \n",
      "  Carsten Kutzner      Per Larsson      Justin A. Lemkul    Viveca Lindahl  \n",
      "  Magnus Lundborg   Pieter Meulenhoff    Erik Marklund      Teemu Murtola   \n",
      "    Szilard Pall       Sander Pronk      Roland Schulz     Alexey Shvetsov  \n",
      "   Michael Shirts     Alfons Sijbers     Peter Tieleman    Teemu Virolainen \n",
      " Christian Wennberg    Maarten Wolf   \n",
      "                           and the project leaders:\n",
      "        Mark Abraham, Berk Hess, Erik Lindahl, and David van der Spoel\n",
      "\n",
      "Copyright (c) 1991-2000, University of Groningen, The Netherlands.\n",
      "Copyright (c) 2001-2017, The GROMACS development team at\n",
      "Uppsala University, Stockholm University and\n",
      "the Royal Institute of Technology, Sweden.\n",
      "check out http://www.gromacs.org for more information.\n",
      "\n",
      "GROMACS is free software; you can redistribute it and/or modify it\n",
      "under the terms of the GNU Lesser General Public License\n",
      "as published by the Free Software Foundation; either version 2.1\n",
      "of the License, or (at your option) any later version.\n",
      "\n",
      "GROMACS:      gmx mdrun, version 2018.1\n",
      "Executable:   /usr/local/gromacs/bin/gmx\n",
      "Data prefix:  /usr/local/gromacs\n",
      "Working dir:  /Users/pau/projects/biobb_wf_mutations/biobb_wf_mutations/notebooks\n",
      "Command line:\n",
      "  gmx mdrun -s 1aki_gppmd.tpr -o 1aki_md.trr -c 1aki_md.gro -e 1aki_md.edr -g 1aki_md.log -nt 0 -cpo 1aki_md.cpt\n",
      "\n",
      "Reading file 1aki_gppmd.tpr, VERSION 2018.1 (single precision)\n",
      "Changing nstlist from 10 to 40, rlist from 1 to 1.096\n",
      "\n",
      "Using 8 MPI threads\n",
      "starting mdrun 'Protein in water'\n",
      "15000 steps,     30.0 ps.\n",
      "\n",
      "step 120 Turning on dynamic load balancing, because the performance loss due to load imbalance is 2.9 %.\n",
      "\n",
      "\n",
      "Writing final coordinates.\n",
      "\n",
      " Dynamic load balancing report:\n",
      " DLB was turned on during the run due to measured imbalance.\n",
      " Average load imbalance: 3.3%.\n",
      " The balanceable part of the MD step is 60%, load imbalance is computed from this.\n",
      " Part of the total run time spent waiting due to load imbalance: 2.0%.\n",
      " Steps where the load balancing was limited by -rdd, -rcon and/or -dds: X 0 % Y 0 %\n",
      "\n",
      "\n",
      "               Core t (s)   Wall t (s)        (%)\n",
      "       Time:     1102.575      137.822      800.0\n",
      "                 (ns/day)    (hour/ns)\n",
      "Performance:       18.808        1.276\n",
      "\n",
      "GROMACS reminds you: \"Money won't buy happiness, but it will pay the salaries of a large research staff to study the problem.\" (Bill Vaughan)\n",
      "\n",
      "\n",
      "2019-01-24 11:10:27,477 [MainThread  ] [INFO ]  Removed: ['traj_comp.xtc']\n"
     ]
    },
    {
     "data": {
      "text/plain": [
       "0"
      ]
     },
     "execution_count": 47,
     "metadata": {},
     "output_type": "execute_result"
    }
   ],
   "source": [
    "# Mdrun: Running free dynamics\n",
    "from biobb_md.gromacs.mdrun import Mdrun\n",
    "# Create prop dict and inputs/outputs\n",
    "output_md_trr_path = '1aki_md.trr'\n",
    "output_md_gro_path = '1aki_md.gro'\n",
    "output_md_edr_path = '1aki_md.edr'\n",
    "output_md_log_path = '1aki_md.log'\n",
    "output_md_cpt_path = '1aki_md.cpt'\n",
    "#Create and launch bb\n",
    "Mdrun(input_tpr_path=output_gppmd_tpr_path, output_trr_path=output_md_trr_path, output_gro_path=output_md_gro_path, output_edr_path=output_md_edr_path, output_log_path=output_md_log_path, output_cpt_path=output_md_cpt_path).launch()"
   ]
  },
  {
   "cell_type": "code",
   "execution_count": null,
   "metadata": {},
   "outputs": [],
   "source": [
    "#Show protein\n",
    "nglview.show_simpletraj(nglview.SimpletrajTrajectory(output_md_trr_path, output_md_gro_path), gui=True)"
   ]
  },
  {
   "cell_type": "code",
   "execution_count": 24,
   "metadata": {},
   "outputs": [
    {
     "name": "stdout",
     "output_type": "stream",
     "text": [
      "./1aki_npt.edr\n",
      "./1aki_min.log\n",
      "./1aki_gppmin.tpr\n",
      "./1aki_npt.trr\n",
      "./1aki_md.log\n",
      "./1aki_npt.cpt\n",
      "./1aki_genion.gro\n",
      "./1aki_md.gro\n",
      "./1aki_editconf.gro\n",
      "./1aki_nvt.edr\n",
      "./1aki_fixed.pdb\n",
      "./1aki.pdb\n",
      "./1aki_solvate.gro\n",
      "./1aki_min.gro\n",
      "./1aki_nvt.trr\n",
      "./1aki_nvt.cpt\n",
      "./1aki_gppion.tpr\n",
      "./1aki_min.trr\n",
      "./log.out\n",
      "./1aki_nvt.gro\n",
      "./1aki_md.edr\n",
      "./1aki_gppmd.tpr\n",
      "./1aki_mutated.pdb\n",
      "./1aki_solvate_top.zip\n",
      "./1aki_genion_top.zip\n",
      "./1aki_min.edr\n",
      "./1aki_md.trr\n",
      "./1aki_npt.log\n",
      "./1aki_gppnpt.tpr\n",
      "./1aki_md.cpt\n",
      "./.ipynb_checkpoints\n",
      "./1aki_npt.gro\n",
      "./1aki_nvt.log\n",
      "./1aki_pdb2gmx_top.zip\n",
      "./1aki_gppnvt.tpr\n",
      "./1aki_pdb2gmx.gro\n",
      "./log.err\n"
     ]
    }
   ],
   "source": [
    "#Clean the directory Remove everything\n",
    "!find . ! \\( -iname \"*.ipynb\" \\) -exec rm -rf {} 2>/dev/null \\; -print"
   ]
  },
  {
   "cell_type": "code",
   "execution_count": null,
   "metadata": {},
   "outputs": [],
   "source": []
  }
 ],
 "metadata": {
  "kernelspec": {
   "display_name": "Python 3",
   "language": "python",
   "name": "python3"
  },
  "language_info": {
   "codemirror_mode": {
    "name": "ipython",
    "version": 3
   },
   "file_extension": ".py",
   "mimetype": "text/x-python",
   "name": "python",
   "nbconvert_exporter": "python",
   "pygments_lexer": "ipython3",
   "version": "3.5.5"
  }
 },
 "nbformat": 4,
 "nbformat_minor": 2
}
